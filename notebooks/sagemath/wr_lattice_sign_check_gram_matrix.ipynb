{
 "cells": [
  {
   "cell_type": "markdown",
   "id": "8d349947",
   "metadata": {},
   "source": [
    "necessary functions to check the sign condition and compute the Gram matrix"
   ]
  },
  {
   "cell_type": "code",
   "execution_count": 13,
   "id": "ac8b5b8c",
   "metadata": {
    "vscode": {
     "languageId": "sage"
    }
   },
   "outputs": [],
   "source": [
    "def sign_cond(alpha_0,beta_0,gamma_0):\n",
    "    s1 = alpha_0 + beta_0 + gamma_0\n",
    "    s2 = alpha_0*beta_0 + beta_0*gamma_0 + gamma_0*alpha_0\n",
    "    s3 = alpha_0*beta_0*gamma_0\n",
    "    return s1, s2, s3\n"
   ]
  },
  {
   "cell_type": "code",
   "execution_count": null,
   "id": "1f7df4c4",
   "metadata": {
    "vscode": {
     "languageId": "sage"
    }
   },
   "outputs": [],
   "source": [
    "def compute_gram_matrix(df, rho, basis, get_rho_permutations):\n",
    "    rho1, rho2, rho3 = get_rho_permutations(rho)\n",
    "    x1, y1, z1 = basis(rho1)\n",
    "    x2, y2, z2 = basis(rho2)\n",
    "    x3, y3, z3 = basis(rho3)\n",
    "\n",
    "    M_alpha = Matrix([[x2^2 - y2^2, x3^2 - y3^2],\n",
    "                      [y2^2 - z2^2, y3^2 - z3^2]])\n",
    "    alpha_0 = M_alpha.det()\n",
    "\n",
    "    M_beta = Matrix([[x3^2 - y3^2, x1^2 - y1^2],\n",
    "                     [y3^2 - z3^2, y1^2 - z1^2]])\n",
    "    beta_0 = M_beta.det()\n",
    "\n",
    "    M_gamma = Matrix([[x1^2 - y1^2, x2^2 - y2^2],\n",
    "                      [y1^2 - z1^2, y2^2 - z2^2]])\n",
    "    gamma_0 = M_gamma.det()\n",
    "    a = alpha_0*x1^2 + beta_0*x2^2 + gamma_0*x3^2       #||Tx||^2 = ||Ty||^2 = ||Tz||^2\n",
    "    b = alpha_0*x1*y1 + beta_0*x2*y2 + gamma_0*x3*y3    #<Tx,Ty>\n",
    "    c = alpha_0*y1*z1 + beta_0*y2*z2 + gamma_0*y3*z3    #<Ty,Tz>\n",
    "    d = alpha_0*z1*x1 + beta_0*z2*x2 + gamma_0*z3*x3    #<Tz,Tx>\n",
    "    s1 = sign_cond(alpha_0, beta_0, gamma_0)[0]\n",
    "    s2 = sign_cond(alpha_0, beta_0, gamma_0)[1]\n",
    "    s3 = sign_cond(alpha_0, beta_0, gamma_0)[2]\n",
    "    return s1,s2,s3,a,b,c,d\n",
    "\n"
   ]
  },
  {
   "cell_type": "markdown",
   "id": "6e0e2583",
   "metadata": {},
   "source": [
    "Shank's  simplest cubic fields, basis   $(1 + \\rho + \\rho^2)/3,\\ \\rho,\\ \\rho+\\rho^2$"
   ]
  },
  {
   "cell_type": "code",
   "execution_count": 40,
   "id": "525ab7f5",
   "metadata": {
    "vscode": {
     "languageId": "sage"
    }
   },
   "outputs": [
    {
     "name": "stdout",
     "output_type": "stream",
     "text": [
      "s1 = (8/9) * (n^2 + 3*n + 9) * (n^2 + 9/2*n + 6)\n",
      "s2 = (7/81) * (n^2 + 3*n + 9) * (n^6 + 9*n^5 + 236/7*n^4 + 429/7*n^3 + 234/7*n^2 - 459/7*n - 81)\n",
      "s3 = (7/729) * (n^2 + 3*n + 9) * (n^6 + 9*n^5 + 180/7*n^4 + 135/7*n^3 - 108/7*n^2 - 81/7*n - 243/7)\n",
      "a = (1/9) * (n^2 + 3*n + 3) * (n^2 + 3*n + 9)\n",
      "b = (-1/27) * (n^2 + 3*n + 9) * (n^2 + 9*n + 9)\n",
      "c = (2/3) * (n^2 + 3*n + 9)\n",
      "d = (1/27) * (n^2 - 3*n - 9) * (n^2 + 3*n + 9)\n"
     ]
    }
   ],
   "source": [
    "R.<n> = QQ[]\n",
    "K.<r> = FractionField(R)[]\n",
    "df = r^3 - n*r^2 - (n + 3)*r - 1\n",
    "L.<rho> = K.quotient(df)\n",
    "\n",
    "def shank_basis(r):\n",
    "    x = (1 + r + r^2)/3\n",
    "    y = r\n",
    "    z = r + r^2\n",
    "    return x, y, z\n",
    "def shank_permutation(rho):\n",
    "    rho1 = rho\n",
    "    rho2 = -1 / (1 + rho1)\n",
    "    rho3 = -1/(1+ rho2)\n",
    "    return rho1, rho2, rho3\n",
    "\n",
    "s1,s2,s3,a,b,c,d = compute_gram_matrix(df, rho, basis=shank_basis, get_rho_permutations=shank_permutation)\n",
    "print(\"s1 =\", R(s1.lift()).factor())\n",
    "print(\"s2 =\", R(s2.lift()).factor())\n",
    "print(\"s3 =\", R(s3.lift()).factor())\n",
    "print(\"a =\", R(a.lift()).factor())\n",
    "print(\"b =\", R(b.lift()).factor())\n",
    "print(\"c =\", R(c.lift()).factor())\n",
    "print(\"d =\", R(d.lift()).factor())\n"
   ]
  },
  {
   "cell_type": "code",
   "execution_count": null,
   "id": "1f973808",
   "metadata": {
    "vscode": {
     "languageId": "sage"
    }
   },
   "outputs": [],
   "source": []
  }
 ],
 "metadata": {
  "kernelspec": {
   "display_name": "SageMath 10.6",
   "language": "sage",
   "name": "sagemath"
  },
  "language_info": {
   "codemirror_mode": {
    "name": "ipython",
    "version": 3
   },
   "file_extension": ".py",
   "mimetype": "text/x-python",
   "name": "python",
   "nbconvert_exporter": "python",
   "pygments_lexer": "ipython3",
   "version": "3.12.10"
  }
 },
 "nbformat": 4,
 "nbformat_minor": 5
}
