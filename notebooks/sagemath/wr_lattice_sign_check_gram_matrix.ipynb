{
 "cells": [
  {
   "cell_type": "markdown",
   "id": "8d349947",
   "metadata": {},
   "source": [
    "Necessary functions to check the sign condition, compute the Gram matrix, unimodular matrix, and $\\alpha^2$."
   ]
  },
  {
   "cell_type": "code",
   "execution_count": 1,
   "id": "ac8b5b8c",
   "metadata": {
    "vscode": {
     "languageId": "sage"
    }
   },
   "outputs": [],
   "source": [
    "def sign_cond(alpha_0,beta_0,gamma_0):\n",
    "    s1 = alpha_0 + beta_0 + gamma_0\n",
    "    s2 = alpha_0*beta_0 + beta_0*gamma_0 + gamma_0*alpha_0\n",
    "    s3 = alpha_0*beta_0*gamma_0\n",
    "    return s1, s2, s3\n"
   ]
  },
  {
   "cell_type": "code",
   "execution_count": 2,
   "id": "32337c42",
   "metadata": {
    "vscode": {
     "languageId": "sage"
    }
   },
   "outputs": [],
   "source": [
    "def factor_coeficient_of_alpha2(alpha_0):\n",
    "    alpha_poly = alpha_0.lift()\n",
    "    R = alpha_poly.parent()\n",
    "    rho = R.gen()\n",
    "\n",
    "    #  m, n, p from m*rho^2 + n*rho + p\n",
    "    m = alpha_poly.coefficient(2)\n",
    "    n = alpha_poly.coefficient(1)\n",
    "    p = alpha_poly.coefficient(0)\n",
    "\n",
    "    # Factor coefficients\n",
    "    m_factored = m.factor()\n",
    "    n_factored = n.factor()\n",
    "    p_factored = p.factor()\n",
    "\n",
    "    print(\"m = \",m_factored)\n",
    "    print(\"n = \",n_factored)\n",
    "    print(\"p = \",p_factored)\n"
   ]
  },
  {
   "cell_type": "code",
   "execution_count": 3,
   "id": "975c483e",
   "metadata": {
    "vscode": {
     "languageId": "sage"
    }
   },
   "outputs": [],
   "source": [
    "def to_transition_matrix(base_old, base_new, rho):\n",
    "    #  [1, rho, rho^2]\n",
    "    def to_vec(expr):\n",
    "        expr = SR(expr).expand()  \n",
    "        return vector(SR, [\n",
    "            expr.subs(rho=0),\n",
    "            expr.coefficient(rho),\n",
    "            expr.coefficient(rho^2)\n",
    "        ])\n",
    "    \n",
    "    B = matrix(SR, [to_vec(b) for b in base_old]).transpose()\n",
    "    Bp = matrix(SR, [to_vec(bn) for bn in base_new]).transpose()\n",
    "\n",
    "    U_cols = [B.solve_right(col) for col in Bp.columns()]\n",
    "    U = matrix(SR, U_cols).transpose()\n",
    "    return U.apply_map(lambda x: x.simplify_rational())"
   ]
  },
  {
   "cell_type": "code",
   "execution_count": 4,
   "id": "efc77089",
   "metadata": {
    "vscode": {
     "languageId": "sage"
    }
   },
   "outputs": [],
   "source": [
    "def rewrite_alpha0_and_compute_norm_psi(alpha_0,get_rho_permutations):\n",
    "    alpha_poly = alpha_0.lift()\n",
    "    R = alpha_poly.parent()\n",
    "    rrho = R.gen()\n",
    "\n",
    "    coeffs = [alpha_poly.coefficient(i) for i in range(alpha_poly.degree() + 1)]\n",
    "\n",
    "    common_factor = coeffs[0]\n",
    "    for c in coeffs[1:]:\n",
    "        common_factor = gcd(common_factor, c)\n",
    "\n",
    "    print(\"k = \",common_factor.factor())\n",
    "\n",
    "    simplified_coeffs = [c // common_factor for c in coeffs]\n",
    "    psi = sum(simplified_coeffs[i] * rrho^i for i in range(len(simplified_coeffs)))\n",
    "\n",
    "    print(\"psi = \",psi)\n",
    "    rho1, rho2, rho3 = get_rho_permutations(rho)\n",
    "    psi1 = psi.subs(r=rho1)\n",
    "    psi2 = psi.subs(r=rho2)\n",
    "    psi3 = psi.subs(r=rho3)\n",
    "    norm = psi1 * psi2 * psi3\n",
    "    return norm"
   ]
  },
  {
   "cell_type": "code",
   "execution_count": 5,
   "id": "1f7df4c4",
   "metadata": {
    "vscode": {
     "languageId": "sage"
    }
   },
   "outputs": [],
   "source": [
    "def compute_gram_matrix(df, rho, basis, get_rho_permutations):\n",
    "    rho1, rho2, rho3 = get_rho_permutations(rho)\n",
    "    x1, y1, z1 = basis(rho1)\n",
    "    x2, y2, z2 = basis(rho2)\n",
    "    x3, y3, z3 = basis(rho3)\n",
    "\n",
    "    M_alpha = Matrix([[x2^2 - y2^2, x3^2 - y3^2],\n",
    "                      [y2^2 - z2^2, y3^2 - z3^2]])\n",
    "    alpha_0 = M_alpha.det()\n",
    "\n",
    "    M_beta = Matrix([[x3^2 - y3^2, x1^2 - y1^2],\n",
    "                     [y3^2 - z3^2, y1^2 - z1^2]])\n",
    "    beta_0 = M_beta.det()\n",
    "\n",
    "    M_gamma = Matrix([[x1^2 - y1^2, x2^2 - y2^2],\n",
    "                      [y1^2 - z1^2, y2^2 - z2^2]])\n",
    "    gamma_0 = M_gamma.det()\n",
    "    a = alpha_0*x1^2 + beta_0*x2^2 + gamma_0*x3^2       #||Tx||^2 = ||Ty||^2 = ||Tz||^2\n",
    "    b = alpha_0*x1*y1 + beta_0*x2*y2 + gamma_0*x3*y3    #<Tx,Ty>\n",
    "    c = alpha_0*z1*x1 + beta_0*z2*x2 + gamma_0*z3*x3    #<Tz,Tx>\n",
    "    d = alpha_0*y1*z1 + beta_0*y2*z2 + gamma_0*y3*z3    #<Ty,Tz>\n",
    "    s1 = sign_cond(alpha_0, beta_0, gamma_0)[0]\n",
    "    s2 = sign_cond(alpha_0, beta_0, gamma_0)[1]\n",
    "    s3 = sign_cond(alpha_0, beta_0, gamma_0)[2]\n",
    "    return s1,s2,s3,a,b,c,d,alpha_0\n",
    "\n"
   ]
  },
  {
   "cell_type": "markdown",
   "id": "6e0e2583",
   "metadata": {},
   "source": [
    "Shank's  simplest cubic fields, good basis   $\\left\\{\\dfrac{1 + \\rho + \\rho^2}{3},\\rho,\\rho+\\rho^2\\right\\}$"
   ]
  },
  {
   "cell_type": "code",
   "execution_count": null,
   "id": "525ab7f5",
   "metadata": {
    "vscode": {
     "languageId": "sage"
    }
   },
   "outputs": [
    {
     "name": "stdout",
     "output_type": "stream",
     "text": [
      "transition matrix = \n",
      "[ 0  0 -1]\n",
      "[ 0  1  0]\n",
      "[ 1  0  3]\n",
      "determinant =  1\n",
      "\n",
      "s1 = (8/9) * (n^2 + 3*n + 9) * (n^2 + 9/2*n + 6)\n",
      "s2 = (7/81) * (n^2 + 3*n + 9) * (n^6 + 9*n^5 + 236/7*n^4 + 429/7*n^3 + 234/7*n^2 - 459/7*n - 81)\n",
      "s3 = (7/729) * (n^2 + 3*n + 9) * (n^6 + 9*n^5 + 180/7*n^4 + 135/7*n^3 - 108/7*n^2 - 81/7*n - 243/7)\n",
      "\n",
      "a = (1/9) * (n^2 + 3*n + 3) * (n^2 + 3*n + 9)\n",
      "b = (-1/27) * (n^2 + 3*n + 9) * (n^2 + 9*n + 9)\n",
      "c = (1/27) * (n^2 - 3*n - 9) * (n^2 + 3*n + 9)\n",
      "d = (2/3) * (n^2 + 3*n + 9)\n",
      "\n",
      "alpha2 = m*rho^2 + n*rho + p where \n",
      "m =  (-2/3) * (n^3 + 47/6*n^2 + 49/2*n + 57/2)\n",
      "n =  (2/3) * (n^4 + 23/3*n^3 + 151/6*n^2 + 69/2*n + 21/2)\n",
      "p =  (7/9) * (n^4 + 62/7*n^3 + 256/7*n^2 + 543/7*n + 486/7)\n",
      "\n",
      "k =  1\n",
      "psi =  (-2/3*n^3 - 47/9*n^2 - 49/3*n - 19)*r^2 + (2/3*n^4 + 46/9*n^3 + 151/9*n^2 + 23*n + 7)*r + 7/9*n^4 + 62/9*n^3 + 256/9*n^2 + 181/3*n + 54\n",
      "norm psi =  (7/729) * (n^2 + 3*n + 9) * (n^6 + 9*n^5 + 180/7*n^4 + 135/7*n^3 - 108/7*n^2 - 81/7*n - 243/7)\n"
     ]
    }
   ],
   "source": [
    "# We first compute the transition matrix to check if it is unimodular.\n",
    "n, rho = var('n rho')\n",
    "basis_old = [\n",
    "    1,\n",
    "    rho,\n",
    "    (1+rho+rho^2)/3\n",
    "] # we know that this is an integral basis.\n",
    "good_basis = [\n",
    "    (1+rho+rho^2)/3,\n",
    "    rho,\n",
    "    rho+rho^2\n",
    "]\n",
    "\n",
    "U = to_transition_matrix(basis_old, good_basis, rho)\n",
    "print('transition matrix = ')\n",
    "print(U)\n",
    "print('determinant = ',det(U))\n",
    "print()\n",
    "\n",
    "###\n",
    "R.<n> = QQ[]\n",
    "K.<r> = FractionField(R)[]\n",
    "df = r^3 - n*r^2 - (n + 3)*r - 1\n",
    "L.<rho> = K.quotient(df)\n",
    "\n",
    "def shank_basis(r):\n",
    "    x = (1 + r + r^2)/3\n",
    "    y = r\n",
    "    z = r + r^2\n",
    "    return x, y, z\n",
    "def shank_permutation(rho):\n",
    "    rho1 = rho\n",
    "    rho2 = -1 / (1 + rho1)\n",
    "    rho3 = -1/(1+ rho2)\n",
    "    return rho1, rho2, rho3\n",
    "\n",
    "s1,s2,s3,a,b,c,d,alpha_0 = compute_gram_matrix(df, rho, basis=shank_basis, get_rho_permutations=shank_permutation)\n",
    "print(\"s1 =\", R(s1.lift()).factor())\n",
    "print(\"s2 =\", R(s2.lift()).factor())\n",
    "print(\"s3 =\", R(s3.lift()).factor())\n",
    "print()\n",
    "print(\"a =\", R(a.lift()).factor())\n",
    "print(\"b =\", R(b.lift()).factor())\n",
    "print(\"c =\", R(c.lift()).factor())\n",
    "print(\"d =\", R(d.lift()).factor())\n",
    "print()\n",
    "print('alpha2 = m*rho^2 + n*rho + p where ')\n",
    "factor_coeficient_of_alpha2(alpha_0)\n",
    "print()\n",
    "print('norm psi = ',R(rewrite_alpha0_and_compute_norm_psi(alpha_0=alpha_0, get_rho_permutations=shank_permutation).lift()).factor())    \n"
   ]
  },
  {
   "cell_type": "markdown",
   "id": "33fcbe40",
   "metadata": {},
   "source": [
    "Washington’s cyclic cubic fields, $n$ even, good basis $\\left\\{\\rho,\\dfrac{\\rho^2-1}{n-1}-\\rho,\\rho^2\\right\\}$"
   ]
  },
  {
   "cell_type": "code",
   "execution_count": 11,
   "id": "1f973808",
   "metadata": {
    "vscode": {
     "languageId": "sage"
    }
   },
   "outputs": [
    {
     "name": "stdout",
     "output_type": "stream",
     "text": [
      "transition matrix = \n",
      "[    0     0     1]\n",
      "[    1    -1     0]\n",
      "[    0     1 n - 1]\n",
      "determinant =  1\n",
      "\n",
      "s1 = (-2) * (n - 1)^2 * (n^2 - 3*n + 3) * (n^2 + 3) * (n^4 - 2*n^3 + 9/2*n^2 - 13/2*n + 9/2)\n",
      "s2 = (n - 1)^4 * (n^2 - 3*n + 3)^2 * (n^2 + 3)^2 * (n^8 - 4*n^7 + 12*n^6 - 26*n^5 + 42*n^4 - 52*n^3 + 49*n^2 - 30*n + 11)\n",
      "s3 = (-1) * (n - 1)^6 * (n^2 - 3*n + 3)^2 * (n^2 + 3)^3\n",
      "\n",
      "a = (-1) * (n - 1)^2 * (n^2 - 3*n + 3) * (n^2 - n + 3) * (n^2 + 3)\n",
      "b = (-1) * n * (n - 1)^2 * (n^2 - 3*n + 3) * (n^2 + 3)\n",
      "c = n * (n - 1)^2 * (n^2 - 3*n + 3) * (n^2 + 3)\n",
      "d = (-1) * n * (n - 1)^2 * (n^2 - 3*n + 3) * (n^2 + 3)\n",
      "\n",
      "alpha2 = m*rho^2 + n*rho + p where \n",
      "m =  (2) * (n - 1)^2 * (n^2 + 3) * (n^3 - 7/2*n^2 + 5*n - 2)\n",
      "n =  (-2) * (n - 1)^3 * (n^2 + 3) * (n^5 - 9/2*n^4 + 21/2*n^3 - 31/2*n^2 + 16*n - 8)\n",
      "p =  (-1) * (n - 1)^2 * (n^2 + 3) * (n^6 - 4*n^5 + 10*n^4 - 21*n^3 + 35*n^2 - 32*n + 13)\n",
      "\n",
      "k =  (n - 1)^2 * (n^2 + 3)\n",
      "psi =  (2*n^3 - 7*n^2 + 10*n - 4)*r^2 + (-2*n^6 + 11*n^5 - 30*n^4 + 52*n^3 - 63*n^2 + 48*n - 16)*r - n^6 + 4*n^5 - 10*n^4 + 21*n^3 - 35*n^2 + 32*n - 13\n",
      "norm psi =  (-1) * (n^2 - 3*n + 3)^2\n"
     ]
    }
   ],
   "source": [
    "# We first compute the transition matrix to check if it is unimodular.\n",
    "n, rho = var('n rho')\n",
    "basis_old = [\n",
    "    1,\n",
    "    rho,\n",
    "    (rho^2 - 1)/(n - 1)\n",
    "] # we know that this is an integral basis.\n",
    "good_basis = [\n",
    "    rho,\n",
    "    (rho^2 - 1)/(n - 1) - rho,\n",
    "    rho^2\n",
    "]\n",
    "\n",
    "U = to_transition_matrix(basis_old, good_basis, rho)\n",
    "print('transition matrix = ')\n",
    "print(U)\n",
    "print('determinant = ',det(U))\n",
    "print()\n",
    "\n",
    "###\n",
    "R.<n> = QQ[]\n",
    "K.<r> = FractionField(R)[]\n",
    "df =  r^3 -(n^3-2*n^2+3*n-3)*r^2-n^2*r-1\n",
    "L.<rho> = K.quotient(df)\n",
    "\n",
    "def washington_basis(r):\n",
    "    x = r\n",
    "    y = (r^2-1)/(n-1)-r \n",
    "    z = r^2\n",
    "    return x, y, z\n",
    "def washington_permutation(rho):\n",
    "    rho1 = rho\n",
    "    rho2 = -(rho+1)/((n^2-n+1)*rho+n)\n",
    "    rho3 = -(rho2+1)/((n^2-n+1)*rho2+n)\n",
    "    return rho1, rho2, rho3\n",
    "\n",
    "s1,s2,s3,a,b,c,d,alpha_0 = compute_gram_matrix(df, rho, basis=washington_basis, get_rho_permutations=washington_permutation)\n",
    "print(\"s1 =\", R(s1.lift()).factor())\n",
    "print(\"s2 =\", R(s2.lift()).factor())\n",
    "print(\"s3 =\", R(s3.lift()).factor())\n",
    "print()\n",
    "print(\"a =\", R(a.lift()).factor())\n",
    "print(\"b =\", R(b.lift()).factor())\n",
    "print(\"c =\", R(c.lift()).factor())\n",
    "print(\"d =\", R(d.lift()).factor())\n",
    "print()\n",
    "print('alpha2 = m*rho^2 + n*rho + p where ')\n",
    "factor_coeficient_of_alpha2(alpha_0)\n",
    "print()\n",
    "print('norm psi = ',R(rewrite_alpha0_and_compute_norm_psi(alpha_0=alpha_0, get_rho_permutations=washington_permutation).lift()).factor()) \n"
   ]
  },
  {
   "cell_type": "markdown",
   "id": "9eabb4f4",
   "metadata": {},
   "source": [
    "Washington’s cyclic cubic fields, $n$ odd, good basis $\\left\\{\\rho^2,\\dfrac{n-2}{2n-2}\\rho^2+\\dfrac{\\rho}{2}+\\dfrac{1}{2n-2},\\dfrac{\\rho^2+\\rho}{2}\\right\\}$"
   ]
  },
  {
   "cell_type": "code",
   "execution_count": 12,
   "id": "41d9c18f",
   "metadata": {
    "vscode": {
     "languageId": "sage"
    }
   },
   "outputs": [
    {
     "name": "stdout",
     "output_type": "stream",
     "text": [
      "transition matrix = \n",
      "[ 0 -1  0]\n",
      "[ 0  1  1]\n",
      "[ 1  0  0]\n",
      "determinant =  -1\n",
      "\n",
      "s1 = (3/8) * (n^2 - 3*n + 3) * (n^2 + 3) * (n^6 - 14/3*n^5 + 21/2*n^4 - 39/2*n^3 + 74/3*n^2 - 95/6*n + 19/6)\n",
      "s2 = (9/256) * (n^2 - 3*n + 3) * (n^2 + 3)^2 * (n^14 - 37/3*n^13 + 221/3*n^12 - 872/3*n^11 + 7711/9*n^10 - 17963/9*n^9 + 33878/9*n^8 - 5807*n^7 + 65986/9*n^6 - 67409/9*n^5 + 54266/9*n^4 - 32923/9*n^3 + 13826/9*n^2 - 3307/9*n + 79/3)\n",
      "s3 = (9/4096) * (n^2 - 3*n + 3) * (n^2 + 3)^3 * (n^8 - 37/3*n^7 + 188/3*n^6 - 171*n^5 + 2410/9*n^4 - 2045/9*n^3 + 76*n^2 + 37/3*n - 19/9)\n",
      "\n",
      "a = (1/16) * (n^2 - 3*n + 3) * (n^2 + 3) * (n^4 - 5*n^3 + 10*n^2 - 11*n + 1)\n",
      "b = (1/32) * (n^2 - 4*n + 7) * (n^2 - 3*n + 3) * (n^2 - 2*n - 1) * (n^2 + 3)\n",
      "c = (1/32) * (n^2 - 3*n + 3) * (n^2 + 3) * (n^4 - 8*n^3 + 16*n^2 - 16*n - 1)\n",
      "d = (1/64) * (n - 1) * (n^2 - 3*n + 3) * (n^2 + 3) * (n^3 - 11*n^2 + 19*n - 1)\n",
      "\n",
      "alpha2 = m*rho^2 + n*rho + p where \n",
      "m =  (-1/8) * (n - 1)^-1 * (n^2 + 3) * (n^6 - 25/2*n^5 + 83/2*n^4 - 127/2*n^3 + 83/2*n^2 - 5*n - 5)\n",
      "n =  (1/8) * (n^2 + 3) * (n^8 - 27/2*n^7 + 56*n^6 - 265/2*n^5 + 417/2*n^4 - 228*n^3 + 297/2*n^2 - 35*n - 9)\n",
      "p =  (3/16) * (n - 1)^-1 * (n^2 + 3) * (n^9 - 25/3*n^8 + 31*n^7 - 236/3*n^6 + 158*n^5 - 740/3*n^4 + 799/3*n^3 - 538/3*n^2 + 197/3*n - 31/3)\n",
      "\n",
      "k =  (n - 1)^-1 * (n^2 + 3)\n",
      "psi =  (-1/8*n^6 + 25/16*n^5 - 83/16*n^4 + 127/16*n^3 - 83/16*n^2 + 5/8*n + 5/8)*r^2 + (1/8*n^9 - 29/16*n^8 + 139/16*n^7 - 377/16*n^6 + 341/8*n^5 - 873/16*n^4 + 753/16*n^3 - 367/16*n^2 + 13/4*n + 9/8)*r + 3/16*n^9 - 25/16*n^8 + 93/16*n^7 - 59/4*n^6 + 237/8*n^5 - 185/4*n^4 + 799/16*n^3 - 269/8*n^2 + 197/16*n - 31/16\n",
      "norm psi =  (9/4096) * (n - 1)^3 * (n^2 - 3*n + 3) * (n^8 - 37/3*n^7 + 188/3*n^6 - 171*n^5 + 2410/9*n^4 - 2045/9*n^3 + 76*n^2 + 37/3*n - 19/9)\n"
     ]
    }
   ],
   "source": [
    "# We first compute the transition matrix to check if it is unimodular.\n",
    "n, rho = var('n rho')\n",
    "basis_old = [\n",
    "    (rho^2 - 1)/(2*n - 2),\n",
    "    (rho^2 +rho)/2,\n",
    "    rho^2\n",
    "] # we know that this is an integral basis.\n",
    "good_basis = [\n",
    "    rho^2,\n",
    "    (n-2)/(2*n-2)*rho^2+1/2*rho+1/(2*n-2),\n",
    "    (rho^2+rho)/2\n",
    "]\n",
    "\n",
    "U = to_transition_matrix(basis_old, good_basis, rho)\n",
    "print('transition matrix = ')\n",
    "print(U)\n",
    "print('determinant = ',det(U))\n",
    "print()\n",
    "\n",
    "###\n",
    "R.<n> = QQ[]\n",
    "K.<r> = FractionField(R)[]\n",
    "df =  r^3 -(n^3-2*n^2+3*n-3)*r^2-n^2*r-1\n",
    "L.<rho> = K.quotient(df)\n",
    "\n",
    "def washington_basis(r):\n",
    "    x = r^2\n",
    "    y = (n-2)/(2*n-2)*r^2 +r/2+1/(2*n-2)\n",
    "    z = (r^2+r)/2\n",
    "    return x, y, z\n",
    "def washington_permutation(rho):\n",
    "    rho1 = rho\n",
    "    rho2 = -(rho+1)/((n^2-n+1)*rho+n)\n",
    "    rho3 = -(rho2+1)/((n^2-n+1)*rho2+n)\n",
    "    return rho1, rho2, rho3\n",
    "\n",
    "s1,s2,s3,a,b,c,d,alpha_0 = compute_gram_matrix(df, rho, basis=washington_basis, get_rho_permutations=washington_permutation)\n",
    "print(\"s1 =\", R(s1.lift()).factor())\n",
    "print(\"s2 =\", R(s2.lift()).factor())\n",
    "print(\"s3 =\", R(s3.lift()).factor())\n",
    "print()\n",
    "print(\"a =\", R(a.lift()).factor())\n",
    "print(\"b =\", R(b.lift()).factor())\n",
    "print(\"c =\", R(c.lift()).factor())\n",
    "print(\"d =\", R(d.lift()).factor())\n",
    "print()\n",
    "print('alpha2 = m*rho^2 + n*rho + p where ')\n",
    "factor_coeficient_of_alpha2(alpha_0)\n",
    "print()\n",
    "print('norm psi = ',R(rewrite_alpha0_and_compute_norm_psi(alpha_0=alpha_0, get_rho_permutations=washington_permutation).lift()).factor()) \n"
   ]
  },
  {
   "cell_type": "markdown",
   "id": "7981e0d3",
   "metadata": {},
   "source": [
    "Washington’s cyclic cubic fields, $n$ odd, good basis $\\left\\{\\dfrac{n-2}{2n-2}\\rho^2+\\dfrac{n-1}{2n-2}\\rho+\\dfrac{1}{2n-2},-\\dfrac{\\rho^2-1}{2n-2}+\\rho,\\dfrac{\\rho^2+\\rho}{2}\\right\\}$"
   ]
  },
  {
   "cell_type": "code",
   "execution_count": 13,
   "id": "8b48e93c",
   "metadata": {
    "vscode": {
     "languageId": "sage"
    }
   },
   "outputs": [
    {
     "name": "stdout",
     "output_type": "stream",
     "text": [
      "transition matrix = \n",
      "[-1 -1  0]\n",
      "[ 1  2  1]\n",
      "[ 0 -1  0]\n",
      "determinant =  -1\n",
      "\n",
      "s1 = (1/8) * (n^2 - 4*n + 7) * (n^2 - 3*n + 3) * (n^2 + 3) * (n^4 - 2*n^3 + 9/2*n^2 - 13/2*n + 9/2)\n",
      "s2 = (1/256) * (n^2 - 4*n + 7)^2 * (n^2 - 3*n + 3)^2 * (n^2 + 3)^2 * (n^8 - 4*n^7 + 12*n^6 - 26*n^5 + 42*n^4 - 52*n^3 + 49*n^2 - 30*n + 11)\n",
      "s3 = (1/4096) * (n^2 - 3*n + 3)^2 * (n^2 - 4*n + 7)^3 * (n^2 + 3)^3\n",
      "\n",
      "a = (1/32) * (n^2 - 4*n + 7) * (n^2 - 3*n + 3) * (n^2 - 2*n + 3) * (n^2 + 3)\n",
      "b = (1/64) * (n - 3) * (n - 1) * (n^2 - 4*n + 7) * (n^2 - 3*n + 3) * (n^2 + 3)\n",
      "c = (1/64) * (n - 3) * (n - 1) * (n^2 - 4*n + 7) * (n^2 - 3*n + 3) * (n^2 + 3)\n",
      "d = (1/64) * (n - 3) * (n - 1) * (n^2 - 4*n + 7) * (n^2 - 3*n + 3) * (n^2 + 3)\n",
      "\n",
      "alpha2 = m*rho^2 + n*rho + p where \n",
      "m =  (-1/8) * (n^2 - 4*n + 7) * (n^2 + 3) * (n^3 - 7/2*n^2 + 5*n - 2)\n",
      "n =  (1/8) * (n - 1) * (n^2 - 4*n + 7) * (n^2 + 3) * (n^5 - 9/2*n^4 + 21/2*n^3 - 31/2*n^2 + 16*n - 8)\n",
      "p =  (1/16) * (n^2 - 4*n + 7) * (n^2 + 3) * (n^6 - 4*n^5 + 10*n^4 - 21*n^3 + 35*n^2 - 32*n + 13)\n",
      "\n",
      "k =  (n^2 - 4*n + 7) * (n^2 + 3)\n",
      "psi =  (-1/8*n^3 + 7/16*n^2 - 5/8*n + 1/4)*r^2 + (1/8*n^6 - 11/16*n^5 + 15/8*n^4 - 13/4*n^3 + 63/16*n^2 - 3*n + 1)*r + 1/16*n^6 - 1/4*n^5 + 5/8*n^4 - 21/16*n^3 + 35/16*n^2 - 2*n + 13/16\n",
      "norm psi =  (1/4096) * (n^2 - 3*n + 3)^2\n"
     ]
    }
   ],
   "source": [
    "# We first compute the transition matrix to check if it is unimodular.\n",
    "n, rho = var('n rho')\n",
    "basis_old = [\n",
    "    (rho^2 - 1)/(2*n - 2),\n",
    "    (rho^2 +rho)/2,\n",
    "    rho^2\n",
    "] # we know that this is an integral basis.\n",
    "good_basis = [\n",
    "    (n-2)/(2*n-2)*rho^2+1/2*rho+1/(2*n-2),\n",
    "    -(rho^2-1)/(2*n-2)+rho,\n",
    "    (rho^2+rho)/2\n",
    "]\n",
    "\n",
    "U = to_transition_matrix(basis_old, good_basis, rho)\n",
    "print('transition matrix = ')\n",
    "print(U)\n",
    "print('determinant = ',det(U))\n",
    "print()\n",
    "\n",
    "###\n",
    "R.<n> = QQ[]\n",
    "K.<r> = FractionField(R)[]\n",
    "df =  r^3 -(n^3-2*n^2+3*n-3)*r^2-n^2*r-1\n",
    "L.<rho> = K.quotient(df)\n",
    "\n",
    "def washington_basis(r):\n",
    "    x = (n-2)/(2*n-2)*r^2 +(n-1)/(2*n-2)*r+1/(2*n-2)\n",
    "    y = -(r^2-1)/(2*n-2)+r\n",
    "    z = (r^2+r)/2\n",
    "    return x, y, z\n",
    "def washington_permutation(rho):\n",
    "    rho1 = rho\n",
    "    rho2 = -(rho+1)/((n^2-n+1)*rho+n)\n",
    "    rho3 = -(rho2+1)/((n^2-n+1)*rho2+n)\n",
    "    return rho1, rho2, rho3\n",
    "\n",
    "s1,s2,s3,a,b,c,d,alpha_0 = compute_gram_matrix(df, rho, basis=washington_basis, get_rho_permutations=washington_permutation)\n",
    "print(\"s1 =\", R(s1.lift()).factor())\n",
    "print(\"s2 =\", R(s2.lift()).factor())\n",
    "print(\"s3 =\", R(s3.lift()).factor())\n",
    "print()\n",
    "print(\"a =\", R(a.lift()).factor())\n",
    "print(\"b =\", R(b.lift()).factor())\n",
    "print(\"c =\", R(c.lift()).factor())\n",
    "print(\"d =\", R(d.lift()).factor())\n",
    "print()\n",
    "print('alpha2 = m*rho^2 + n*rho + p where ')\n",
    "factor_coeficient_of_alpha2(alpha_0)\n",
    "print()\n",
    "print('norm psi = ',R(rewrite_alpha0_and_compute_norm_psi(alpha_0=alpha_0, get_rho_permutations=washington_permutation).lift()).factor()) \n"
   ]
  },
  {
   "cell_type": "markdown",
   "id": "8db1984a",
   "metadata": {},
   "source": [
    "Kishi's cyclic cubic fields, $n \\equiv 0,2 \\pmod{6} \\text{ or } n \\equiv 4,10 \\pmod{18}$, good basis $\\left\\{\\dfrac{n\\rho^2+(n^2+n+2)\\rho+1}{n^2+1},\\rho,\\rho^2\\right\\}$"
   ]
  },
  {
   "cell_type": "code",
   "execution_count": 14,
   "id": "c66cbde2",
   "metadata": {
    "vscode": {
     "languageId": "sage"
    }
   },
   "outputs": [
    {
     "name": "stdout",
     "output_type": "stream",
     "text": [
      "transition matrix = \n",
      "[ 1  0  0]\n",
      "[ 0  1  0]\n",
      "[-3  0  1]\n",
      "determinant =  1\n",
      "\n",
      "s1 = (2) * (n^2 + 3) * (n^4 + n^3 + 4*n^2 + 3) * (n^10 + 2*n^9 + 9*n^8 + 9*n^7 + 47/2*n^6 + 15/2*n^5 + 47/2*n^4 - 17/2*n^3 + 21/2*n^2 - 10*n + 5/2)\n",
      "s2 = (n^2 + 1) * (n^2 + 3) * (n^3 + n^2 + 3*n - 1) * (n^4 + n^3 + 4*n^2 + 3) * (n^21 + 4*n^20 + 24*n^19 + 64*n^18 + 212*n^17 + 411*n^16 + 950*n^15 + 1379*n^14 + 2417*n^13 + 2616*n^12 + 3622*n^11 + 2807*n^10 + 3148*n^9 + 1560*n^8 + 1429*n^7 + 291*n^6 + 176*n^5 - 89*n^4 - 105*n^3 - 51*n^2 - 34*n - 8)\n",
      "s3 = (n^2 + 3) * (n^2 + 1)^2 * (n^3 + n^2 + 3*n - 1)^2 * (n^4 + n^3 + 4*n^2 + 3) * (n^8 + n^7 + 6*n^6 + 2*n^5 + 8*n^4 - 3*n^3 + 2*n^2 - 1)\n",
      "\n",
      "a = (n^2 + 3) * (n^4 + n^3 + 4*n^2 + 3) * (n^6 + n^5 + 5*n^4 + n^3 + 5*n^2 - 2*n + 1)\n",
      "b = n * (n^2 + 3)^2 * (n^4 + n^3 + 4*n^2 + 3)\n",
      "c = (n^2 + 3) * (n^4 + n^3 + 4*n^2 + 3) * (n^5 + n^4 + 3*n^3 - 1)\n",
      "d = (-1) * (n^2 + 3) * (n^4 + n^3 + 2*n^2 - n + 1) * (n^4 + n^3 + 4*n^2 + 3)\n",
      "\n",
      "alpha2 = m*rho^2 + n*rho + p where \n",
      "m =  (-2) * (n^12 + 2*n^11 + 12*n^10 + 27/2*n^9 + 47*n^8 + 21*n^7 + 76*n^6 - 41/2*n^5 + 54*n^4 - 131/2*n^3 + 22*n^2 - 69/2*n + 8)\n",
      "n =  (2) * (n^17 + 3*n^16 + 19*n^15 + 75/2*n^14 + 261/2*n^13 + 343/2*n^12 + 861/2*n^11 + 335*n^10 + 1467/2*n^9 + 327/2*n^8 + 631*n^7 - 697/2*n^6 + 260*n^5 - 1001/2*n^4 + 161/2*n^3 - 184*n^2 + 34*n + 5/2)\n",
      "p =  n^16 + 4*n^15 + 22*n^14 + 54*n^13 + 163*n^12 + 267*n^11 + 558*n^10 + 590*n^9 + 957*n^8 + 505*n^7 + 810*n^6 - 113*n^5 + 330*n^4 - 419*n^3 + 112*n^2 - 176*n + 47\n",
      "\n",
      "k =  1\n",
      "psi =  (-2*n^12 - 4*n^11 - 24*n^10 - 27*n^9 - 94*n^8 - 42*n^7 - 152*n^6 + 41*n^5 - 108*n^4 + 131*n^3 - 44*n^2 + 69*n - 16)*r^2 + (2*n^17 + 6*n^16 + 38*n^15 + 75*n^14 + 261*n^13 + 343*n^12 + 861*n^11 + 670*n^10 + 1467*n^9 + 327*n^8 + 1262*n^7 - 697*n^6 + 520*n^5 - 1001*n^4 + 161*n^3 - 368*n^2 + 68*n + 5)*r + n^16 + 4*n^15 + 22*n^14 + 54*n^13 + 163*n^12 + 267*n^11 + 558*n^10 + 590*n^9 + 957*n^8 + 505*n^7 + 810*n^6 - 113*n^5 + 330*n^4 - 419*n^3 + 112*n^2 - 176*n + 47\n",
      "norm psi =  (n^2 + 3) * (n^2 + 1)^2 * (n^3 + n^2 + 3*n - 1)^2 * (n^4 + n^3 + 4*n^2 + 3) * (n^8 + n^7 + 6*n^6 + 2*n^5 + 8*n^4 - 3*n^3 + 2*n^2 - 1)\n"
     ]
    }
   ],
   "source": [
    "# We first compute the transition matrix to check if it is unimodular.\n",
    "n, rho = var('n rho')\n",
    "basis_old = [\n",
    "    (3*n^2+n+3)/(n^2+1)*rho^2 + (n^2+n+2)/(n^2+1)*rho + 1/(n^2+1),\n",
    "    rho,\n",
    "    rho^2\n",
    "] # we know that this is an integral basis.\n",
    "good_basis = [\n",
    "    (n*rho^2+(n^2+n+2)*rho+1)/(n^2+1),\n",
    "    rho,\n",
    "    rho^2\n",
    "]\n",
    "\n",
    "U = to_transition_matrix(basis_old, good_basis, rho)\n",
    "print('transition matrix = ')\n",
    "print(U)\n",
    "print('determinant = ',det(U))\n",
    "print()\n",
    "\n",
    "###\n",
    "R.<n> = QQ[]\n",
    "K.<r> = FractionField(R)[]\n",
    "df =  r^3-n*(n^2+n+3)*(n^2+2)*r^2-(n^3+2*n^2+3*n+3)*r-1\n",
    "L.<rho> = K.quotient(df)\n",
    "\n",
    "def kishi_basis(r):\n",
    "    x = (n*r^2+(n^2+n+2)*r+1)/(n^2+1)\n",
    "    y = r\n",
    "    z = r^2\n",
    "    return x, y, z\n",
    "def kishi_permutation(rho):\n",
    "    rho1 = rho\n",
    "    rho2 = -(n*rho+1)/((n^4 + n^3 + 3*n^2 + n + 1)*rho+(n^2 + n + 1))\n",
    "    rho3 = -(n*rho2+1)/((n^4 + n^3 + 3*n^2 + n + 1)*rho2+(n^2 + n + 1))\n",
    "    return rho1, rho2, rho3\n",
    "\n",
    "s1,s2,s3,a,b,c,d,alpha_0 = compute_gram_matrix(df, rho, basis=kishi_basis, get_rho_permutations=kishi_permutation)\n",
    "print(\"s1 =\", R(s1.lift()).factor())\n",
    "print(\"s2 =\", R(s2.lift()).factor())\n",
    "print(\"s3 =\", R(s3.lift()).factor())\n",
    "print()\n",
    "print(\"a =\", R(a.lift()).factor())\n",
    "print(\"b =\", R(b.lift()).factor())\n",
    "print(\"c =\", R(c.lift()).factor())\n",
    "print(\"d =\", R(d.lift()).factor())\n",
    "print()\n",
    "print('alpha2 = m*rho^2 + n*rho + p where ')\n",
    "factor_coeficient_of_alpha2(alpha_0)\n",
    "print()\n",
    "print('norm psi = ',R(rewrite_alpha0_and_compute_norm_psi(alpha_0=alpha_0, get_rho_permutations=kishi_permutation).lift()).factor())\n"
   ]
  },
  {
   "cell_type": "markdown",
   "id": "b077d3d0",
   "metadata": {},
   "source": [
    "Kishi's cyclic cubic fields, $n \\equiv 3,5 \\pmod{6} \\text{ or } n \\equiv 1,13 \\pmod{18}$, good basis $\\left\\{-\\dfrac{ n\\rho^2+(2n^2+n+3)\\rho+1}{2(n^2+1)}, \\dfrac{\\rho^2+\\rho}{2},\\rho\\right\\}$"
   ]
  },
  {
   "cell_type": "code",
   "execution_count": 15,
   "id": "8c5f08cb",
   "metadata": {
    "vscode": {
     "languageId": "sage"
    }
   },
   "outputs": [
    {
     "name": "stdout",
     "output_type": "stream",
     "text": [
      "transition matrix = \n",
      "[-1  0  0]\n",
      "[-1  1  2]\n",
      "[ 2  0 -1]\n",
      "determinant =  1\n",
      "\n",
      "s1 = (-1/4) * (n^2 + 3) * (n^4 + n^3 + 4*n^2 + 3) * (n^10 + 3/2*n^9 + 15/2*n^8 + 4*n^7 + 59/4*n^6 - 23/4*n^5 + 19/4*n^4 - 101/4*n^3 - 53/4*n^2 - 43/2*n - 35/4)\n",
      "s2 = (3/256) * n * (n^2 + 3) * (n^4 + n^3 + 4*n^2 + 3) * (n^25 + 7/3*n^24 + 56/3*n^23 + 18*n^22 + 287/3*n^21 - 358/3*n^20 - 111*n^19 - 5825/3*n^18 - 8416/3*n^17 - 29198/3*n^16 - 33635/3*n^15 - 74456/3*n^14 - 19907*n^13 - 97199/3*n^12 - 30989/3*n^11 - 32849/3*n^10 + 21510*n^9 + 27807*n^8 + 43201*n^7 + 42060*n^6 + 93494/3*n^5 + 70079/3*n^4 + 8814*n^3 + 12464/3*n^2 + 1175/3*n - 320)\n",
      "s3 = (-9/4096) * (n^2 + 3) * (n^4 + n^3 + 4*n^2 + 3) * (n^18 - 5/3*n^17 + 9*n^16 - 307/9*n^15 + 392/9*n^14 - 1751/9*n^13 + 2408/9*n^12 - 3931/9*n^11 + 9794/9*n^10 - 4205/9*n^9 + 17954/9*n^8 - 1339/3*n^7 + 9664/9*n^6 - 6181/9*n^5 - 11584/9*n^4 - 4417/9*n^3 - 4145/3*n^2 - 200*n + 125)\n",
      "\n",
      "a = (-1/16) * (n^2 + 3) * (n^4 + n^3 + 4*n^2 + 3) * (n^6 - n^5 + 3*n^4 - 9*n^3 + n^2 - 10*n - 5)\n",
      "b = (1/64) * (n^2 + 3) * (n^4 + n^3 + 4*n^2 + 3) * (n^6 - 3*n^4 - 8*n^3 - 21*n^2 - 8*n - 25)\n",
      "c = (1/32) * (n^2 + 3) * (n^4 + n^3 + 4*n^2 + 3) * (n^6 - 3*n^5 + n^4 - 16*n^3 - n^2 - 9*n - 5)\n",
      "d = (-1/32) * (n^2 + 3) * (n^4 + n^3 + 4*n^2 + 3) * (n^6 - n^5 + 2*n^4 - 8*n^3 + 3*n^2 - 3*n - 10)\n",
      "\n",
      "alpha2 = m*rho^2 + n*rho + p where \n",
      "m =  (1/8) * (n^2 + 1)^-1 * (n^15 + 5*n^14 + 20*n^13 + 57*n^12 + 237/2*n^11 + 231*n^10 + 559/2*n^9 + 404*n^8 + 387/2*n^7 + 235*n^6 - 255*n^5 - 149*n^4 - 455*n^3 - 221*n^2 - 353/2*n - 60)\n",
      "n =  (-1/8) * (n^2 + 1)^-1 * (n^20 + 6*n^19 + 30*n^18 + 104*n^17 + 583/2*n^16 + 1409/2*n^15 + 1337*n^14 + 2417*n^13 + 6339/2*n^12 + 4394*n^11 + 6911/2*n^10 + 7207/2*n^9 - 152*n^8 - 466*n^7 - 4349*n^6 - 6257/2*n^5 - 8095/2*n^4 - 4089/2*n^3 - 2443/2*n^2 - 410*n - 45/2)\n",
      "p =  (-3/16) * (n^2 + 1)^-1 * (n^18 + 4*n^17 + 67/3*n^16 + 170/3*n^15 + 521/3*n^14 + 913/3*n^13 + 1921/3*n^12 + 763*n^11 + 1179*n^10 + 2291/3*n^9 + 853*n^8 - 1114/3*n^7 - 1330/3*n^6 - 1574*n^5 - 1150*n^4 - 1323*n^3 - 653*n^2 - 1114/3*n - 115)\n",
      "\n",
      "k =  (n^2 + 1)^-1\n",
      "psi =  (1/8*n^15 + 5/8*n^14 + 5/2*n^13 + 57/8*n^12 + 237/16*n^11 + 231/8*n^10 + 559/16*n^9 + 101/2*n^8 + 387/16*n^7 + 235/8*n^6 - 255/8*n^5 - 149/8*n^4 - 455/8*n^3 - 221/8*n^2 - 353/16*n - 15/2)*r^2 + (-1/8*n^20 - 3/4*n^19 - 15/4*n^18 - 13*n^17 - 583/16*n^16 - 1409/16*n^15 - 1337/8*n^14 - 2417/8*n^13 - 6339/16*n^12 - 2197/4*n^11 - 6911/16*n^10 - 7207/16*n^9 + 19*n^8 + 233/4*n^7 + 4349/8*n^6 + 6257/16*n^5 + 8095/16*n^4 + 4089/16*n^3 + 2443/16*n^2 + 205/4*n + 45/16)*r - 3/16*n^18 - 3/4*n^17 - 67/16*n^16 - 85/8*n^15 - 521/16*n^14 - 913/16*n^13 - 1921/16*n^12 - 2289/16*n^11 - 3537/16*n^10 - 2291/16*n^9 - 2559/16*n^8 + 557/8*n^7 + 665/8*n^6 + 2361/8*n^5 + 1725/8*n^4 + 3969/16*n^3 + 1959/16*n^2 + 557/8*n + 345/16\n",
      "norm psi =  (-9/4096) * (n^2 + 3) * (n^2 + 1)^3 * (n^4 + n^3 + 4*n^2 + 3) * (n^18 - 5/3*n^17 + 9*n^16 - 307/9*n^15 + 392/9*n^14 - 1751/9*n^13 + 2408/9*n^12 - 3931/9*n^11 + 9794/9*n^10 - 4205/9*n^9 + 17954/9*n^8 - 1339/3*n^7 + 9664/9*n^6 - 6181/9*n^5 - 11584/9*n^4 - 4417/9*n^3 - 4145/3*n^2 - 200*n + 125)\n"
     ]
    }
   ],
   "source": [
    "# We first compute the transition matrix to check if it is unimodular.\n",
    "n, rho = var('n rho')\n",
    "basis_old = [\n",
    "    (3*n^2+n+3)/(2*(n^2+1))*rho^2 + (n^2+n+2)/(2*(n^2+1))*rho + 1/(2*(n^2+1)),\n",
    "    (rho^2+rho)/2,\n",
    "    rho^2\n",
    "] # we know that this is an integral basis.\n",
    "good_basis = [\n",
    "    (-n)/(2*n^2+2)*rho^2 - (2*n^2+n+3)/(2*n^2+2)*rho - 1/(2*n^2+2),\n",
    "    (rho^2 + rho)/2,\n",
    "    rho\n",
    "]\n",
    "\n",
    "U = to_transition_matrix(basis_old, good_basis, rho)\n",
    "print('transition matrix = ')\n",
    "print(U)\n",
    "print('determinant = ',det(U))\n",
    "print()\n",
    "\n",
    "###\n",
    "R.<n> = QQ[]\n",
    "K.<r> = FractionField(R)[]\n",
    "df =  r^3-n*(n^2+n+3)*(n^2+2)*r^2-(n^3+2*n^2+3*n+3)*r-1\n",
    "L.<rho> = K.quotient(df)\n",
    "\n",
    "def kishi_basis(r):\n",
    "    x = -(n*r^2+(2*n^2+n+3)*r+1)/(2*n^2+2)\n",
    "    y = (r^2+r)/2\n",
    "    z = r\n",
    "    return x, y, z\n",
    "def kishi_permutation(rho):\n",
    "    rho1 = rho\n",
    "    rho2 = -(n*rho+1)/((n^4 + n^3 + 3*n^2 + n + 1)*rho+(n^2 + n + 1))\n",
    "    rho3 = -(n*rho2+1)/((n^4 + n^3 + 3*n^2 + n + 1)*rho2+(n^2 + n + 1))\n",
    "    return rho1, rho2, rho3\n",
    "\n",
    "s1,s2,s3,a,b,c,d,alpha_0 = compute_gram_matrix(df, rho, basis=kishi_basis, get_rho_permutations=kishi_permutation)\n",
    "print(\"s1 =\", R(s1.lift()).factor())\n",
    "print(\"s2 =\", R(s2.lift()).factor())\n",
    "print(\"s3 =\", R(s3.lift()).factor())\n",
    "print()\n",
    "print(\"a =\", R(a.lift()).factor())\n",
    "print(\"b =\", R(b.lift()).factor())\n",
    "print(\"c =\", R(c.lift()).factor())\n",
    "print(\"d =\", R(d.lift()).factor())\n",
    "print()\n",
    "print('alpha2 = m*rho^2 + n*rho + p where ')\n",
    "factor_coeficient_of_alpha2(alpha_0)\n",
    "print()\n",
    "print('norm psi = ',R(rewrite_alpha0_and_compute_norm_psi(alpha_0=alpha_0, get_rho_permutations=kishi_permutation).lift()).factor())\n"
   ]
  },
  {
   "cell_type": "markdown",
   "id": "3f384578",
   "metadata": {},
   "source": [
    "Kishi's cyclic cubic fields, $n \\equiv 3,5 \\pmod{6} \\text{ or } n \\equiv 1,13 \\pmod{18}$, good basis $\\left\\{\\dfrac{(n^2 - n + 1)\\rho^2-(n^2+n+2)\\rho-1}{2(n^2+1)}, \\dfrac{\\rho^2+\\rho}{2},-\\rho^2\\right\\}$"
   ]
  },
  {
   "cell_type": "code",
   "execution_count": 16,
   "id": "da95834c",
   "metadata": {
    "vscode": {
     "languageId": "sage"
    }
   },
   "outputs": [
    {
     "name": "stdout",
     "output_type": "stream",
     "text": [
      "transition matrix = \n",
      "[-1  0  0]\n",
      "[ 0  1  0]\n",
      "[ 2  0 -1]\n",
      "determinant =  1\n",
      "\n",
      "s1 = (3/8) * (n^2 + 3) * (n^4 + n^3 + 4*n^2 + 3) * (n^10 + 7/3*n^9 + 28/3*n^8 + 26/3*n^7 + 101/6*n^6 - 55/6*n^5 - 27/2*n^4 - 301/6*n^3 - 245/6*n^2 - 35*n - 109/6)\n",
      "s2 = (9/256) * (n^2 + 3) * (n^4 + n^3 + 4*n^2 + 3) * (n^26 + 17/3*n^25 + 34*n^24 + 346/3*n^23 + 3443/9*n^22 + 7970/9*n^21 + 17731/9*n^20 + 27943/9*n^19 + 41080/9*n^18 + 3522*n^17 + 6523/9*n^16 - 82732/9*n^15 - 183119/9*n^14 - 339619/9*n^13 - 46905*n^12 - 164279/3*n^11 - 419608/9*n^10 - 337279/9*n^9 - 180245/9*n^8 - 85396/9*n^7 - 932*n^6 + 12919/9*n^5 + 12146/9*n^4 + 8624/9*n^3 + 815/9*n^2 + 268/3*n - 4)\n",
      "s3 = (9/4096) * (n^2 + 3) * (n^4 + n^3 + 4*n^2 + 3) * (n^18 + 11/3*n^17 + 47/3*n^16 + 83/3*n^15 + 416/9*n^14 - 47/9*n^13 - 944/9*n^12 - 2855/9*n^11 - 3398/9*n^10 - 1981/9*n^9 + 306*n^8 + 6691/9*n^7 + 2392/3*n^6 + 3331/9*n^5 - 680/9*n^4 - 1397/9*n^3 - 121/3*n^2 + 8*n + 1)\n",
      "\n",
      "a = (1/16) * (n^2 + 3) * (n^4 + n^3 + 4*n^2 + 3) * (n^6 + n^5 + 3*n^4 - n^3 - 3*n^2 - 4*n - 1)\n",
      "b = (1/64) * (n + 1) * (n^2 + 3) * (n^4 + n^3 + 4*n^2 + 3) * (n^5 - n^4 + 2*n^3 - 10*n^2 - 3*n - 5)\n",
      "c = (-1/32) * (n + 1) * (n^2 + 3) * (n^4 + n^3 + 4*n^2 + 3) * (n^5 - n^4 + 3*n^3 - 3*n^2 + 2*n + 2)\n",
      "d = (-1/32) * (n + 1) * (n^2 + 3) * (n^4 + n^3 + 4*n^2 + 3) * (n^5 - 4*n^2 - 5*n + 4)\n",
      "\n",
      "alpha2 = m*rho^2 + n*rho + p where \n",
      "m =  (-1/2) * (n^2 + 1)^-1 * (n^14 + 2*n^13 + 23/2*n^12 + 89/8*n^11 + 35*n^10 - 99/8*n^9 - 51/4*n^8 - 1457/8*n^7 - 881/4*n^6 - 809/2*n^5 - 1443/4*n^4 - 697/2*n^3 - 887/4*n^2 - 841/8*n - 93/2)\n",
      "n =  (1/2) * (n^2 + 1)^-1 * (n^19 + 3*n^18 + 37/2*n^17 + 277/8*n^16 + 909/8*n^15 + 453/4*n^14 + 963/4*n^13 - 963/8*n^12 - 284*n^11 - 13083/8*n^10 - 18529/8*n^9 - 17043/4*n^8 - 4526*n^7 - 20897/4*n^6 - 33437/8*n^5 - 25235/8*n^4 - 14793/8*n^3 - 6213/8*n^2 - 310*n - 129/8)\n",
      "p =  (3/16) * (n^2 + 1)^-1 * (n^18 + 14/3*n^17 + 25*n^16 + 196/3*n^15 + 189*n^14 + 299*n^13 + 1651/3*n^12 + 339*n^11 + 619/3*n^10 - 4013/3*n^9 - 2327*n^8 - 14782/3*n^7 - 5434*n^6 - 19648/3*n^5 - 5178*n^4 - 11959/3*n^3 - 6751/3*n^2 - 2798/3*n - 357)\n",
      "\n",
      "k =  (n^2 + 1)^-1\n",
      "psi =  (-1/2*n^14 - n^13 - 23/4*n^12 - 89/16*n^11 - 35/2*n^10 + 99/16*n^9 + 51/8*n^8 + 1457/16*n^7 + 881/8*n^6 + 809/4*n^5 + 1443/8*n^4 + 697/4*n^3 + 887/8*n^2 + 841/16*n + 93/4)*r^2 + (1/2*n^19 + 3/2*n^18 + 37/4*n^17 + 277/16*n^16 + 909/16*n^15 + 453/8*n^14 + 963/8*n^13 - 963/16*n^12 - 142*n^11 - 13083/16*n^10 - 18529/16*n^9 - 17043/8*n^8 - 2263*n^7 - 20897/8*n^6 - 33437/16*n^5 - 25235/16*n^4 - 14793/16*n^3 - 6213/16*n^2 - 155*n - 129/16)*r + 3/16*n^18 + 7/8*n^17 + 75/16*n^16 + 49/4*n^15 + 567/16*n^14 + 897/16*n^13 + 1651/16*n^12 + 1017/16*n^11 + 619/16*n^10 - 4013/16*n^9 - 6981/16*n^8 - 7391/8*n^7 - 8151/8*n^6 - 1228*n^5 - 7767/8*n^4 - 11959/16*n^3 - 6751/16*n^2 - 1399/8*n - 1071/16\n",
      "norm psi =  (9/4096) * (n^2 + 3) * (n^2 + 1)^3 * (n^4 + n^3 + 4*n^2 + 3) * (n^18 + 11/3*n^17 + 47/3*n^16 + 83/3*n^15 + 416/9*n^14 - 47/9*n^13 - 944/9*n^12 - 2855/9*n^11 - 3398/9*n^10 - 1981/9*n^9 + 306*n^8 + 6691/9*n^7 + 2392/3*n^6 + 3331/9*n^5 - 680/9*n^4 - 1397/9*n^3 - 121/3*n^2 + 8*n + 1)\n"
     ]
    }
   ],
   "source": [
    "# We first compute the transition matrix to check if it is unimodular.\n",
    "n, rho = var('n rho')\n",
    "basis_old = [\n",
    "    (3*n^2+n+3)/(2*(n^2+1))*rho^2 + (n^2+n+2)/(2*(n^2+1))*rho + 1/(2*(n^2+1)),\n",
    "    (rho^2+rho)/2,\n",
    "    rho^2\n",
    "] # we know that this is an integral basis.\n",
    "good_basis = [\n",
    "    ((n^2-n+1)*rho^2-(n^2+n+2)*rho-1)/(2*n^2+2),\n",
    "    (rho^2 + rho)/2,\n",
    "    -rho^2\n",
    "]\n",
    "\n",
    "U = to_transition_matrix(basis_old, good_basis, rho)\n",
    "print('transition matrix = ')\n",
    "print(U)\n",
    "print('determinant = ',det(U))\n",
    "print()\n",
    "\n",
    "###\n",
    "R.<n> = QQ[]\n",
    "K.<r> = FractionField(R)[]\n",
    "df =  r^3-n*(n^2+n+3)*(n^2+2)*r^2-(n^3+2*n^2+3*n+3)*r-1\n",
    "L.<rho> = K.quotient(df)\n",
    "\n",
    "def kishi_basis(r):\n",
    "    x = ((n^2-n+1)*r^2-(n^2+n+2)*r-1)/(2*n^2+2)\n",
    "    y = (r^2+r)/2\n",
    "    z = -r^2\n",
    "    return x, y, z\n",
    "def kishi_permutation(rho):\n",
    "    rho1 = rho\n",
    "    rho2 = -(n*rho+1)/((n^4 + n^3 + 3*n^2 + n + 1)*rho+(n^2 + n + 1))\n",
    "    rho3 = -(n*rho2+1)/((n^4 + n^3 + 3*n^2 + n + 1)*rho2+(n^2 + n + 1))\n",
    "    return rho1, rho2, rho3\n",
    "\n",
    "s1,s2,s3,a,b,c,d,alpha_0 = compute_gram_matrix(df, rho, basis=kishi_basis, get_rho_permutations=kishi_permutation)\n",
    "print(\"s1 =\", R(s1.lift()).factor())\n",
    "print(\"s2 =\", R(s2.lift()).factor())\n",
    "print(\"s3 =\", R(s3.lift()).factor())\n",
    "print()\n",
    "print(\"a =\", R(a.lift()).factor())\n",
    "print(\"b =\", R(b.lift()).factor())\n",
    "print(\"c =\", R(c.lift()).factor())\n",
    "print(\"d =\", R(d.lift()).factor())\n",
    "print()\n",
    "print('alpha2 = m*rho^2 + n*rho + p where ')\n",
    "factor_coeficient_of_alpha2(alpha_0)\n",
    "print()\n",
    "print('norm psi = ',R(rewrite_alpha0_and_compute_norm_psi(alpha_0=alpha_0, get_rho_permutations=kishi_permutation).lift()).factor())\n"
   ]
  },
  {
   "cell_type": "markdown",
   "id": "9eb634be",
   "metadata": {},
   "source": [
    "Kishi's cyclic cubic fields, $n \\equiv 3,5 \\pmod{6} \\text{ or } n \\equiv 1,13 \\pmod{18}$, good basis $\\left\\{\\dfrac{(n^2 + n + 1)\\rho^2+(n^2 + n + 2)\\rho+1}{2(n^2+1)}, \\dfrac{\\rho^2+\\rho}{2},\\rho^2\\right\\}$"
   ]
  },
  {
   "cell_type": "code",
   "execution_count": null,
   "id": "1031843f",
   "metadata": {
    "vscode": {
     "languageId": "sage"
    }
   },
   "outputs": [
    {
     "name": "stdout",
     "output_type": "stream",
     "text": [
      "transition matrix = \n",
      "[ 1  0  0]\n",
      "[ 0  1  0]\n",
      "[-1  0  1]\n",
      "determinant =  1\n",
      "\n",
      "s1 = (3/8) * (n^2 + 3) * (n^4 + n^3 + 4*n^2 + 3) * (n^10 + 5/3*n^9 + 22/3*n^8 + 16/3*n^7 + 101/6*n^6 + 7/2*n^5 + 143/6*n^4 + 23/6*n^3 + 175/6*n^2 + 13/3*n + 95/6)\n",
      "s2 = (9/256) * (n^2 + 3) * (n^4 + n^3 + 4*n^2 + 3) * (n^26 + 13/3*n^25 + 82/3*n^24 + 238/3*n^23 + 2531/9*n^22 + 1826/3*n^21 + 13907/9*n^20 + 23827/9*n^19 + 47720/9*n^18 + 7582*n^17 + 12683*n^16 + 145556/9*n^15 + 209989/9*n^14 + 28469*n^13 + 35263*n^12 + 381427/9*n^11 + 129640/3*n^10 + 445981/9*n^9 + 39055*n^8 + 40468*n^7 + 203392/9*n^6 + 60949/3*n^5 + 20630/3*n^4 + 15736/3*n^3 + 6407/9*n^2 + 1348/3*n - 4)\n",
      "s3 = (9/4096) * (n^2 + 3) * (n^4 + n^3 + 4*n^2 + 3) * (n^18 + 7/3*n^17 + 35/3*n^16 + 43/3*n^15 + 368/9*n^14 + 209/9*n^13 + 188/3*n^12 + 193/9*n^11 + 458/9*n^10 + 491/9*n^9 - 290/9*n^8 + 329/3*n^7 - 1352/9*n^6 - 509/9*n^5 - 2684/9*n^4 - 2845/9*n^3 - 553/3*n^2 - 308*n - 71)\n",
      "\n",
      "a = (1/16) * (n^2 + 3) * (n^4 + n^3 + 4*n^2 + 3) * (n^6 + n^5 + 3*n^4 - n^3 + n^2 - 1)\n",
      "b = (1/64) * (n^2 + 3) * (n^4 + n^3 + 4*n^2 + 3) * (n^6 + 2*n^5 + 3*n^4 + 4*n^3 - 5*n^2 + 2*n - 23)\n",
      "c = (1/32) * (n^2 + 3) * (n^4 + n^3 + 4*n^2 + 3) * (n^6 + 2*n^5 + 4*n^4 - 2*n^3 - n^2 - 8*n - 4)\n",
      "d = (1/32) * (n^2 + 3) * (n^4 + n^3 + 4*n^2 + 3) * (n^6 + n^5 - 4*n^3 - 5*n^2 - n - 8)\n",
      "\n",
      "alpha2 = m*rho^2 + n*rho + p where \n",
      "m =  (-1/4) * (n^2 + 1)^-1 * (n^14 + 8*n^12 - 39/4*n^11 + 22*n^10 - 255/4*n^9 + 113/2*n^8 - 481/4*n^7 + 399/2*n^6 - 35*n^5 + 751/2*n^4 + 78*n^3 + 587/2*n^2 + 175/4*n + 81)\n",
      "n =  (1/4) * (n^2 + 1)^-1 * (n^19 + n^18 + 13*n^17 + 1/4*n^16 + 233/4*n^15 - 149/2*n^14 + 261/2*n^13 - 1591/4*n^12 + 359*n^11 - 2843/4*n^10 + 5623/4*n^9 - 115/2*n^8 + 3303*n^7 + 2509/2*n^6 + 15683/4*n^5 + 5549/4*n^4 + 8927/4*n^3 + 1967/4*n^2 + 491*n + 111/4)\n",
      "p =  (3/16) * (n^2 + 1)^-1 * (n^18 + 10/3*n^17 + 55/3*n^16 + 112/3*n^15 + 347/3*n^14 + 449/3*n^13 + 357*n^12 + 279*n^11 + 2159/3*n^10 + 1151/3*n^9 + 4151/3*n^8 + 802*n^7 + 7174/3*n^6 + 3968/3*n^5 + 7786/3*n^4 + 1019*n^3 + 4301/3*n^2 + 854/3*n + 311)\n",
      "\n",
      "k =  (n^2 + 1)^-1\n",
      "psi =  (-1/4*n^14 - 2*n^12 + 39/16*n^11 - 11/2*n^10 + 255/16*n^9 - 113/8*n^8 + 481/16*n^7 - 399/8*n^6 + 35/4*n^5 - 751/8*n^4 - 39/2*n^3 - 587/8*n^2 - 175/16*n - 81/4)*r^2 + (1/4*n^19 + 1/4*n^18 + 13/4*n^17 + 1/16*n^16 + 233/16*n^15 - 149/8*n^14 + 261/8*n^13 - 1591/16*n^12 + 359/4*n^11 - 2843/16*n^10 + 5623/16*n^9 - 115/8*n^8 + 3303/4*n^7 + 2509/8*n^6 + 15683/16*n^5 + 5549/16*n^4 + 8927/16*n^3 + 1967/16*n^2 + 491/4*n + 111/16)*r + 3/16*n^18 + 5/8*n^17 + 55/16*n^16 + 7*n^15 + 347/16*n^14 + 449/16*n^13 + 1071/16*n^12 + 837/16*n^11 + 2159/16*n^10 + 1151/16*n^9 + 4151/16*n^8 + 1203/8*n^7 + 3587/8*n^6 + 248*n^5 + 3893/8*n^4 + 3057/16*n^3 + 4301/16*n^2 + 427/8*n + 933/16\n",
      "norm psi =  (9/4096) * (n^2 + 3) * (n^2 + 1)^3 * (n^4 + n^3 + 4*n^2 + 3) * (n^18 + 7/3*n^17 + 35/3*n^16 + 43/3*n^15 + 368/9*n^14 + 209/9*n^13 + 188/3*n^12 + 193/9*n^11 + 458/9*n^10 + 491/9*n^9 - 290/9*n^8 + 329/3*n^7 - 1352/9*n^6 - 509/9*n^5 - 2684/9*n^4 - 2845/9*n^3 - 553/3*n^2 - 308*n - 71)\n"
     ]
    }
   ],
   "source": [
    "# We first compute the transition matrix to check if it is unimodular.\n",
    "n, rho = var('n rho')\n",
    "basis_old = [\n",
    "    (3*n^2+n+3)/(2*(n^2+1))*rho^2 + (n^2+n+2)/(2*(n^2+1))*rho + 1/(2*(n^2+1)),\n",
    "    (rho^2+rho)/2,\n",
    "    rho^2\n",
    "] # we know that this is an integral basis.\n",
    "good_basis = [\n",
    "    ((n^2+n+1)*rho^2+(n^2+n+2)*rho+1)/(2*n^2+2),\n",
    "    (rho^2 + rho)/2,\n",
    "    rho^2\n",
    "]\n",
    "\n",
    "U = to_transition_matrix(basis_old, good_basis, rho)\n",
    "print('transition matrix = ')\n",
    "print(U)\n",
    "print('determinant = ',det(U))\n",
    "print()\n",
    "\n",
    "###\n",
    "R.<n> = QQ[]\n",
    "K.<r> = FractionField(R)[]\n",
    "df =  r^3-n*(n^2+n+3)*(n^2+2)*r^2-(n^3+2*n^2+3*n+3)*r-1\n",
    "L.<rho> = K.quotient(df)\n",
    "\n",
    "def kishi_basis(r):\n",
    "    x = ((n^2+n+1)*r^2+(n^2+n+2)*r+1)/(2*n^2+2)\n",
    "    y = (r^2+r)/2\n",
    "    z = r^2\n",
    "    return x, y, z\n",
    "def kishi_permutation(rho):\n",
    "    rho1 = rho\n",
    "    rho2 = -(n*rho+1)/((n^4 + n^3 + 3*n^2 + n + 1)*rho+(n^2 + n + 1))\n",
    "    rho3 = -(n*rho2+1)/((n^4 + n^3 + 3*n^2 + n + 1)*rho2+(n^2 + n + 1))\n",
    "    return rho1, rho2, rho3\n",
    "\n",
    "s1,s2,s3,a,b,c,d,alpha_0 = compute_gram_matrix(df, rho, basis=kishi_basis, get_rho_permutations=kishi_permutation)\n",
    "print(\"s1 =\", R(s1.lift()).factor())\n",
    "print(\"s2 =\", R(s2.lift()).factor())\n",
    "print(\"s3 =\", R(s3.lift()).factor())\n",
    "print()\n",
    "print(\"a =\", R(a.lift()).factor())\n",
    "print(\"b =\", R(b.lift()).factor())\n",
    "print(\"c =\", R(c.lift()).factor())\n",
    "print(\"d =\", R(d.lift()).factor())\n",
    "print()\n",
    "print('alpha2 = m*rho^2 + n*rho + p where ')\n",
    "factor_coeficient_of_alpha2(alpha_0)\n",
    "print()\n",
    "print('norm psi = ',R(rewrite_alpha0_and_compute_norm_psi(alpha_0=alpha_0, get_rho_permutations=kishi_permutation).lift()).factor())\n"
   ]
  },
  {
   "cell_type": "markdown",
   "id": "4c43d951",
   "metadata": {},
   "source": [
    "Kishi's cyclic cubic fields, $n \\equiv 3,5 \\pmod{6} \\text{ or } n \\equiv 1,13 \\pmod{18}$, good basis $\\left\\{\\dfrac{n\\rho^2+(n+1)\\rho+1}{2(n^2+1)}, \\dfrac{\\rho^2+\\rho}{2},-\\rho\\right\\}$"
   ]
  },
  {
   "cell_type": "code",
   "execution_count": 20,
   "id": "dc11a0f5",
   "metadata": {
    "vscode": {
     "languageId": "sage"
    }
   },
   "outputs": [
    {
     "name": "stdout",
     "output_type": "stream",
     "text": [
      "transition matrix = \n",
      "[ 1  0  0]\n",
      "[-1  1 -2]\n",
      "[-1  0  1]\n",
      "determinant =  1\n",
      "\n",
      "s1 = (-1/4) * (n^2 + 3) * (n^4 + n^3 + 4*n^2 + 3) * (n^10 + 7/2*n^9 + 23/2*n^8 + 23*n^7 + 147/4*n^6 + 201/4*n^5 + 191/4*n^4 + 195/4*n^3 + 115/4*n^2 + 37/2*n + 21/4)\n",
      "s2 = (3/256) * n * (n^2 + 3) * (n^4 + n^3 + 4*n^2 + 3) * (n^25 + 23/3*n^24 + 136/3*n^23 + 190*n^22 + 661*n^21 + 5806/3*n^20 + 4881*n^19 + 32875/3*n^18 + 21632*n^17 + 117062/3*n^16 + 62623*n^15 + 279124/3*n^14 + 123757*n^13 + 458897/3*n^12 + 169641*n^11 + 521671/3*n^10 + 479266/3*n^9 + 400541/3*n^8 + 99281*n^7 + 195296/3*n^6 + 110446/3*n^5 + 51943/3*n^4 + 18274/3*n^3 + 1536*n^2 - 97/3*n - 96)\n",
      "s3 = (-9/4096) * (n^2 + 3) * (n^4 + n^3 + 4*n^2 + 3) * (n^18 + 23/3*n^17 + 37*n^16 + 1189/9*n^15 + 3272/9*n^14 + 7529/9*n^13 + 4820/3*n^12 + 8015/3*n^11 + 3906*n^10 + 14921/3*n^9 + 51406/9*n^8 + 50423/9*n^7 + 43904/9*n^6 + 32443/9*n^5 + 6644/3*n^4 + 9847/9*n^3 + 309*n^2 - 36*n - 27)\n",
      "\n",
      "a = (-1/16) * (n^2 + 3) * (n^4 + n^3 + 4*n^2 + 3) * (n^6 + 3*n^5 + 7*n^4 + 11*n^3 + 9*n^2 + 10*n + 3)\n",
      "b = (1/64) * (n^2 + 3) * (n^4 + n^3 + 4*n^2 + 3) * (n^6 + 2*n^5 - n^4 - 4*n^3 - 21*n^2 - 6*n - 3)\n",
      "c = (-1/32) * (n^2 + 3) * (n^4 + n^3 + 4*n^2 + 3) * (n^6 + 5*n^5 + 9*n^4 + 18*n^3 + 11*n^2 + 9*n + 3)\n",
      "d = (1/32) * (n + 1) * (n^2 + 3) * (n^4 + n^3 + 4*n^2 + 3) * (n^5 + 2*n^4 + 4*n^3 + 4*n^2 + 3*n + 6)\n",
      "\n",
      "alpha2 = m*rho^2 + n*rho + p where \n",
      "m =  (1/8) * (n^2 + 1)^-1 * (n^15 + 5*n^14 + 24*n^13 + 67*n^12 + 353/2*n^11 + 329*n^10 + 1179/2*n^9 + 786*n^8 + 2083/2*n^7 + 1031*n^6 + 1057*n^5 + 775*n^4 + 605*n^3 + 293*n^2 + 287/2*n + 36)\n",
      "n =  (-1/8) * (n^2 + 1)^-1 * (n^20 + 6*n^19 + 34*n^18 + 118*n^17 + 759/2*n^16 + 1837/2*n^15 + 2079*n^14 + 3775*n^13 + 12983/2*n^12 + 9154*n^11 + 24819/2*n^10 + 27607/2*n^9 + 15020*n^8 + 13158*n^7 + 11455*n^6 + 15299/2*n^5 + 10165/2*n^4 + 4707/2*n^3 + 2013/2*n^2 + 260*n + 27/2)\n",
      "p =  (-3/16) * (n^2 + 1)^-1 * (n^18 + 16/3*n^17 + 83/3*n^16 + 266/3*n^15 + 773/3*n^14 + 583*n^13 + 3521/3*n^12 + 2007*n^11 + 9013/3*n^10 + 12091/3*n^9 + 4621*n^8 + 14894/3*n^7 + 13150/3*n^6 + 3758*n^5 + 2482*n^4 + 4823/3*n^3 + 2161/3*n^2 + 886/3*n + 69)\n",
      "\n",
      "k =  (n^2 + 1)^-1\n",
      "psi =  (1/8*n^15 + 5/8*n^14 + 3*n^13 + 67/8*n^12 + 353/16*n^11 + 329/8*n^10 + 1179/16*n^9 + 393/4*n^8 + 2083/16*n^7 + 1031/8*n^6 + 1057/8*n^5 + 775/8*n^4 + 605/8*n^3 + 293/8*n^2 + 287/16*n + 9/2)*r^2 + (-1/8*n^20 - 3/4*n^19 - 17/4*n^18 - 59/4*n^17 - 759/16*n^16 - 1837/16*n^15 - 2079/8*n^14 - 3775/8*n^13 - 12983/16*n^12 - 4577/4*n^11 - 24819/16*n^10 - 27607/16*n^9 - 3755/2*n^8 - 6579/4*n^7 - 11455/8*n^6 - 15299/16*n^5 - 10165/16*n^4 - 4707/16*n^3 - 2013/16*n^2 - 65/2*n - 27/16)*r - 3/16*n^18 - n^17 - 83/16*n^16 - 133/8*n^15 - 773/16*n^14 - 1749/16*n^13 - 3521/16*n^12 - 6021/16*n^11 - 9013/16*n^10 - 12091/16*n^9 - 13863/16*n^8 - 7447/8*n^7 - 6575/8*n^6 - 5637/8*n^5 - 3723/8*n^4 - 4823/16*n^3 - 2161/16*n^2 - 443/8*n - 207/16\n",
      "norm psi =  (-9/4096) * (n^2 + 3) * (n^2 + 1)^3 * (n^4 + n^3 + 4*n^2 + 3) * (n^18 + 23/3*n^17 + 37*n^16 + 1189/9*n^15 + 3272/9*n^14 + 7529/9*n^13 + 4820/3*n^12 + 8015/3*n^11 + 3906*n^10 + 14921/3*n^9 + 51406/9*n^8 + 50423/9*n^7 + 43904/9*n^6 + 32443/9*n^5 + 6644/3*n^4 + 9847/9*n^3 + 309*n^2 - 36*n - 27)\n"
     ]
    }
   ],
   "source": [
    "# We first compute the transition matrix to check if it is unimodular.\n",
    "n, rho = var('n rho')\n",
    "basis_old = [\n",
    "    (3*n^2+n+3)/(2*(n^2+1))*rho^2 + (n^2+n+2)/(2*(n^2+1))*rho + 1/(2*(n^2+1)),\n",
    "    (rho^2+rho)/2,\n",
    "    rho^2\n",
    "] # we know that this is an integral basis.\n",
    "good_basis = [\n",
    "    (n*rho^2+(n+1)*rho+1)/(2*n^2+2),\n",
    "    (rho^2 + rho)/2,\n",
    "    -rho\n",
    "]\n",
    "\n",
    "U = to_transition_matrix(basis_old, good_basis, rho)\n",
    "print('transition matrix = ')\n",
    "print(U)\n",
    "print('determinant = ',det(U))\n",
    "print()\n",
    "\n",
    "###\n",
    "R.<n> = QQ[]\n",
    "K.<r> = FractionField(R)[]\n",
    "df =  r^3-n*(n^2+n+3)*(n^2+2)*r^2-(n^3+2*n^2+3*n+3)*r-1\n",
    "L.<rho> = K.quotient(df)\n",
    "\n",
    "def kishi_basis(r):\n",
    "    x = (n*r^2+(n+1)*r+1)/(2*n^2+2)\n",
    "    y = (r^2+r)/2\n",
    "    z = -r\n",
    "    return x, y, z\n",
    "def kishi_permutation(rho):\n",
    "    rho1 = rho\n",
    "    rho2 = -(n*rho+1)/((n^4 + n^3 + 3*n^2 + n + 1)*rho+(n^2 + n + 1))\n",
    "    rho3 = -(n*rho2+1)/((n^4 + n^3 + 3*n^2 + n + 1)*rho2+(n^2 + n + 1))\n",
    "    return rho1, rho2, rho3\n",
    "\n",
    "s1,s2,s3,a,b,c,d,alpha_0 = compute_gram_matrix(df, rho, basis=kishi_basis, get_rho_permutations=kishi_permutation)\n",
    "print(\"s1 =\", R(s1.lift()).factor())\n",
    "print(\"s2 =\", R(s2.lift()).factor())\n",
    "print(\"s3 =\", R(s3.lift()).factor())\n",
    "print()\n",
    "print(\"a =\", R(a.lift()).factor())\n",
    "print(\"b =\", R(b.lift()).factor())\n",
    "print(\"c =\", R(c.lift()).factor())\n",
    "print(\"d =\", R(d.lift()).factor())\n",
    "print()\n",
    "print('alpha2 = m*rho^2 + n*rho + p where ')\n",
    "factor_coeficient_of_alpha2(alpha_0)\n",
    "print()\n",
    "print('norm psi = ',R(rewrite_alpha0_and_compute_norm_psi(alpha_0=alpha_0, get_rho_permutations=kishi_permutation).lift()).factor())\n"
   ]
  },
  {
   "cell_type": "code",
   "execution_count": null,
   "id": "a56f9250",
   "metadata": {
    "vscode": {
     "languageId": "sage"
    }
   },
   "outputs": [],
   "source": []
  }
 ],
 "metadata": {
  "kernelspec": {
   "display_name": "SageMath 10.6",
   "language": "sage",
   "name": "sagemath"
  },
  "language_info": {
   "codemirror_mode": {
    "name": "ipython",
    "version": 3
   },
   "file_extension": ".py",
   "mimetype": "text/x-python",
   "name": "python",
   "nbconvert_exporter": "python",
   "pygments_lexer": "ipython3",
   "version": "3.12.10"
  }
 },
 "nbformat": 4,
 "nbformat_minor": 5
}
