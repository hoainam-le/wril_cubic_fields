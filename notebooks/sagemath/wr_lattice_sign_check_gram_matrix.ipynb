{
 "cells": [
  {
   "cell_type": "markdown",
   "id": "8d349947",
   "metadata": {},
   "source": [
    "Necessary functions to check the sign condition and compute the Gram matrix"
   ]
  },
  {
   "cell_type": "code",
   "execution_count": 59,
   "id": "ac8b5b8c",
   "metadata": {
    "vscode": {
     "languageId": "sage"
    }
   },
   "outputs": [],
   "source": [
    "def sign_cond(alpha_0,beta_0,gamma_0):\n",
    "    s1 = alpha_0 + beta_0 + gamma_0\n",
    "    s2 = alpha_0*beta_0 + beta_0*gamma_0 + gamma_0*alpha_0\n",
    "    s3 = alpha_0*beta_0*gamma_0\n",
    "    return s1, s2, s3\n"
   ]
  },
  {
   "cell_type": "code",
   "execution_count": 60,
   "id": "1f7df4c4",
   "metadata": {
    "vscode": {
     "languageId": "sage"
    }
   },
   "outputs": [],
   "source": [
    "def compute_gram_matrix(df, rho, basis, get_rho_permutations):\n",
    "    rho1, rho2, rho3 = get_rho_permutations(rho)\n",
    "    x1, y1, z1 = basis(rho1)\n",
    "    x2, y2, z2 = basis(rho2)\n",
    "    x3, y3, z3 = basis(rho3)\n",
    "\n",
    "    M_alpha = Matrix([[x2^2 - y2^2, x3^2 - y3^2],\n",
    "                      [y2^2 - z2^2, y3^2 - z3^2]])\n",
    "    alpha_0 = M_alpha.det()\n",
    "\n",
    "    M_beta = Matrix([[x3^2 - y3^2, x1^2 - y1^2],\n",
    "                     [y3^2 - z3^2, y1^2 - z1^2]])\n",
    "    beta_0 = M_beta.det()\n",
    "\n",
    "    M_gamma = Matrix([[x1^2 - y1^2, x2^2 - y2^2],\n",
    "                      [y1^2 - z1^2, y2^2 - z2^2]])\n",
    "    gamma_0 = M_gamma.det()\n",
    "    a = alpha_0*x1^2 + beta_0*x2^2 + gamma_0*x3^2       #||Tx||^2 = ||Ty||^2 = ||Tz||^2\n",
    "    b = alpha_0*x1*y1 + beta_0*x2*y2 + gamma_0*x3*y3    #<Tx,Ty>\n",
    "    c = alpha_0*z1*x1 + beta_0*z2*x2 + gamma_0*z3*x3    #<Tz,Tx>\n",
    "    d = alpha_0*y1*z1 + beta_0*y2*z2 + gamma_0*y3*z3    #<Ty,Tz>\n",
    "    s1 = sign_cond(alpha_0, beta_0, gamma_0)[0]\n",
    "    s2 = sign_cond(alpha_0, beta_0, gamma_0)[1]\n",
    "    s3 = sign_cond(alpha_0, beta_0, gamma_0)[2]\n",
    "    return s1,s2,s3,a,b,c,d\n",
    "\n"
   ]
  },
  {
   "cell_type": "markdown",
   "id": "6e0e2583",
   "metadata": {},
   "source": [
    "Shank's  simplest cubic fields, basis   $\\left\\{\\dfrac{1 + \\rho + \\rho^2}{3},\\rho,\\rho+\\rho^2\\right\\}$"
   ]
  },
  {
   "cell_type": "code",
   "execution_count": 61,
   "id": "525ab7f5",
   "metadata": {
    "vscode": {
     "languageId": "sage"
    }
   },
   "outputs": [
    {
     "name": "stdout",
     "output_type": "stream",
     "text": [
      "s1 = (8/9) * (n^2 + 3*n + 9) * (n^2 + 9/2*n + 6)\n",
      "s2 = (7/81) * (n^2 + 3*n + 9) * (n^6 + 9*n^5 + 236/7*n^4 + 429/7*n^3 + 234/7*n^2 - 459/7*n - 81)\n",
      "s3 = (7/729) * (n^2 + 3*n + 9) * (n^6 + 9*n^5 + 180/7*n^4 + 135/7*n^3 - 108/7*n^2 - 81/7*n - 243/7)\n",
      "a = (1/9) * (n^2 + 3*n + 3) * (n^2 + 3*n + 9)\n",
      "b = (-1/27) * (n^2 + 3*n + 9) * (n^2 + 9*n + 9)\n",
      "c = (1/27) * (n^2 - 3*n - 9) * (n^2 + 3*n + 9)\n",
      "d = (2/3) * (n^2 + 3*n + 9)\n"
     ]
    }
   ],
   "source": [
    "R.<n> = QQ[]\n",
    "K.<r> = FractionField(R)[]\n",
    "df = r^3 - n*r^2 - (n + 3)*r - 1\n",
    "L.<rho> = K.quotient(df)\n",
    "\n",
    "def shank_basis(r):\n",
    "    x = (1 + r + r^2)/3\n",
    "    y = r\n",
    "    z = r + r^2\n",
    "    return x, y, z\n",
    "def shank_permutation(rho):\n",
    "    rho1 = rho\n",
    "    rho2 = -1 / (1 + rho1)\n",
    "    rho3 = -1/(1+ rho2)\n",
    "    return rho1, rho2, rho3\n",
    "\n",
    "s1,s2,s3,a,b,c,d = compute_gram_matrix(df, rho, basis=shank_basis, get_rho_permutations=shank_permutation)\n",
    "print(\"s1 =\", R(s1.lift()).factor())\n",
    "print(\"s2 =\", R(s2.lift()).factor())\n",
    "print(\"s3 =\", R(s3.lift()).factor())\n",
    "print(\"a =\", R(a.lift()).factor())\n",
    "print(\"b =\", R(b.lift()).factor())\n",
    "print(\"c =\", R(c.lift()).factor())\n",
    "print(\"d =\", R(d.lift()).factor())\n"
   ]
  },
  {
   "cell_type": "markdown",
   "id": "33fcbe40",
   "metadata": {},
   "source": [
    "Washington’s cyclic cubic fields, $n$ even, basis $\\left\\{\\rho,\\dfrac{\\rho^2-1}{n-1}-\\rho,\\rho^2\\right\\}$"
   ]
  },
  {
   "cell_type": "code",
   "execution_count": 63,
   "id": "1f973808",
   "metadata": {
    "vscode": {
     "languageId": "sage"
    }
   },
   "outputs": [
    {
     "name": "stdout",
     "output_type": "stream",
     "text": [
      "s1 = (-2) * (n - 1)^2 * (n^2 - 3*n + 3) * (n^2 + 3) * (n^4 - 2*n^3 + 9/2*n^2 - 13/2*n + 9/2)\n",
      "s2 = (n - 1)^4 * (n^2 - 3*n + 3)^2 * (n^2 + 3)^2 * (n^8 - 4*n^7 + 12*n^6 - 26*n^5 + 42*n^4 - 52*n^3 + 49*n^2 - 30*n + 11)\n",
      "s3 = (-1) * (n - 1)^6 * (n^2 - 3*n + 3)^2 * (n^2 + 3)^3\n",
      "a = (-1) * (n - 1)^2 * (n^2 - 3*n + 3) * (n^2 - n + 3) * (n^2 + 3)\n",
      "b = (-1) * n * (n - 1)^2 * (n^2 - 3*n + 3) * (n^2 + 3)\n",
      "c = n * (n - 1)^2 * (n^2 - 3*n + 3) * (n^2 + 3)\n",
      "d = (-1) * n * (n - 1)^2 * (n^2 - 3*n + 3) * (n^2 + 3)\n"
     ]
    }
   ],
   "source": [
    "R.<n> = QQ[]\n",
    "K.<r> = FractionField(R)[]\n",
    "df =  r^3 -(n^3-2*n^2+3*n-3)*r^2-n^2*r-1\n",
    "L.<rho> = K.quotient(df)\n",
    "\n",
    "def washington_basis_n_even(r):\n",
    "    x = r\n",
    "    y = (r^2-1)/(n-1)-r \n",
    "    z = r^2\n",
    "    return x, y, z\n",
    "def washington_permutation(rho):\n",
    "    rho1 = rho\n",
    "    rho2 = -(rho+1)/((n^2-n+1)*rho+n)\n",
    "    rho3 = -(rho2+1)/((n^2-n+1)*rho2+n)\n",
    "    return rho1, rho2, rho3\n",
    "\n",
    "s1,s2,s3,a,b,c,d = compute_gram_matrix(df, rho, basis=washington_basis_n_even, get_rho_permutations=washington_permutation)\n",
    "print(\"s1 =\", R(s1.lift()).factor())\n",
    "print(\"s2 =\", R(s2.lift()).factor())\n",
    "print(\"s3 =\", R(s3.lift()).factor())\n",
    "print(\"a =\", R(a.lift()).factor())\n",
    "print(\"b =\", R(b.lift()).factor())\n",
    "print(\"c =\", R(c.lift()).factor())\n",
    "print(\"d =\", R(d.lift()).factor())\n"
   ]
  },
  {
   "cell_type": "markdown",
   "id": "9eabb4f4",
   "metadata": {},
   "source": [
    "Washington’s cyclic cubic fields, $n$ odd, basis $\\left\\{\\rho^2,\\dfrac{n-2}{2n-2}\\rho^2+\\dfrac{\\rho}{2}+\\dfrac{1}{2n-2},\\dfrac{\\rho^2+\\rho}{2}\\right\\}$"
   ]
  },
  {
   "cell_type": "code",
   "execution_count": 64,
   "id": "41d9c18f",
   "metadata": {
    "vscode": {
     "languageId": "sage"
    }
   },
   "outputs": [
    {
     "name": "stdout",
     "output_type": "stream",
     "text": [
      "s1 = (3/8) * (n^2 - 3*n + 3) * (n^2 + 3) * (n^6 - 14/3*n^5 + 21/2*n^4 - 39/2*n^3 + 74/3*n^2 - 95/6*n + 19/6)\n",
      "s2 = (9/256) * (n^2 - 3*n + 3) * (n^2 + 3)^2 * (n^14 - 37/3*n^13 + 221/3*n^12 - 872/3*n^11 + 7711/9*n^10 - 17963/9*n^9 + 33878/9*n^8 - 5807*n^7 + 65986/9*n^6 - 67409/9*n^5 + 54266/9*n^4 - 32923/9*n^3 + 13826/9*n^2 - 3307/9*n + 79/3)\n",
      "s3 = (9/4096) * (n^2 - 3*n + 3) * (n^2 + 3)^3 * (n^8 - 37/3*n^7 + 188/3*n^6 - 171*n^5 + 2410/9*n^4 - 2045/9*n^3 + 76*n^2 + 37/3*n - 19/9)\n",
      "a = (1/16) * (n^2 - 3*n + 3) * (n^2 + 3) * (n^4 - 5*n^3 + 10*n^2 - 11*n + 1)\n",
      "b = (1/32) * (n^2 - 4*n + 7) * (n^2 - 3*n + 3) * (n^2 - 2*n - 1) * (n^2 + 3)\n",
      "c = (1/32) * (n^2 - 3*n + 3) * (n^2 + 3) * (n^4 - 8*n^3 + 16*n^2 - 16*n - 1)\n",
      "d = (1/64) * (n - 1) * (n^2 - 3*n + 3) * (n^2 + 3) * (n^3 - 11*n^2 + 19*n - 1)\n"
     ]
    }
   ],
   "source": [
    "R.<n> = QQ[]\n",
    "K.<r> = FractionField(R)[]\n",
    "df =  r^3 -(n^3-2*n^2+3*n-3)*r^2-n^2*r-1\n",
    "L.<rho> = K.quotient(df)\n",
    "\n",
    "def washington_basis_n_odd_1(r):\n",
    "    x = r^2\n",
    "    y = (n-2)/(2*n-2)*r^2 +r/2+1/(2*n-2)\n",
    "    z = (r^2+r)/2\n",
    "    return x, y, z\n",
    "def washington_permutation(rho):\n",
    "    rho1 = rho\n",
    "    rho2 = -(rho+1)/((n^2-n+1)*rho+n)\n",
    "    rho3 = -(rho2+1)/((n^2-n+1)*rho2+n)\n",
    "    return rho1, rho2, rho3\n",
    "\n",
    "s1,s2,s3,a,b,c,d = compute_gram_matrix(df, rho, basis=washington_basis_n_odd_1, get_rho_permutations=washington_permutation)\n",
    "print(\"s1 =\", R(s1.lift()).factor())\n",
    "print(\"s2 =\", R(s2.lift()).factor())\n",
    "print(\"s3 =\", R(s3.lift()).factor())\n",
    "print(\"a =\", R(a.lift()).factor())\n",
    "print(\"b =\", R(b.lift()).factor())\n",
    "print(\"c =\", R(c.lift()).factor())\n",
    "print(\"d =\", R(d.lift()).factor())\n"
   ]
  },
  {
   "cell_type": "markdown",
   "id": "7981e0d3",
   "metadata": {},
   "source": [
    "Washington’s cyclic cubic fields, $n$ odd, basis $\\left\\{\\dfrac{n-2}{2n-2}\\rho^2+\\dfrac{n-1}{2n-2}\\rho+\\dfrac{1}{2n-2},-\\dfrac{\\rho^2-1}{2n-2}+\\rho,\\dfrac{\\rho^2+\\rho}{2}\\right\\}$"
   ]
  },
  {
   "cell_type": "code",
   "execution_count": 66,
   "id": "8b48e93c",
   "metadata": {
    "vscode": {
     "languageId": "sage"
    }
   },
   "outputs": [
    {
     "name": "stdout",
     "output_type": "stream",
     "text": [
      "s1 = (1/8) * (n^2 - 4*n + 7) * (n^2 - 3*n + 3) * (n^2 + 3) * (n^4 - 2*n^3 + 9/2*n^2 - 13/2*n + 9/2)\n",
      "s2 = (1/256) * (n^2 - 4*n + 7)^2 * (n^2 - 3*n + 3)^2 * (n^2 + 3)^2 * (n^8 - 4*n^7 + 12*n^6 - 26*n^5 + 42*n^4 - 52*n^3 + 49*n^2 - 30*n + 11)\n",
      "s3 = (1/4096) * (n^2 - 3*n + 3)^2 * (n^2 - 4*n + 7)^3 * (n^2 + 3)^3\n",
      "a = (1/32) * (n^2 - 4*n + 7) * (n^2 - 3*n + 3) * (n^2 - 2*n + 3) * (n^2 + 3)\n",
      "b = (1/64) * (n - 3) * (n - 1) * (n^2 - 4*n + 7) * (n^2 - 3*n + 3) * (n^2 + 3)\n",
      "c = (1/64) * (n - 3) * (n - 1) * (n^2 - 4*n + 7) * (n^2 - 3*n + 3) * (n^2 + 3)\n",
      "d = (1/64) * (n - 3) * (n - 1) * (n^2 - 4*n + 7) * (n^2 - 3*n + 3) * (n^2 + 3)\n"
     ]
    }
   ],
   "source": [
    "R.<n> = QQ[]\n",
    "K.<r> = FractionField(R)[]\n",
    "df =  r^3 -(n^3-2*n^2+3*n-3)*r^2-n^2*r-1\n",
    "L.<rho> = K.quotient(df)\n",
    "\n",
    "def washington_basis_n_odd_2(r):\n",
    "    x = (n-2)/(2*n-2)*r^2 +(n-1)/(2*n-2)*r+1/(2*n-2)\n",
    "    y = -(r^2-1)/(2*n-2)+r\n",
    "    z = (r^2+r)/2\n",
    "    return x, y, z\n",
    "def washington_permutation(rho):\n",
    "    rho1 = rho\n",
    "    rho2 = -(rho+1)/((n^2-n+1)*rho+n)\n",
    "    rho3 = -(rho2+1)/((n^2-n+1)*rho2+n)\n",
    "    return rho1, rho2, rho3\n",
    "\n",
    "s1,s2,s3,a,b,c,d = compute_gram_matrix(df, rho, basis=washington_basis_n_odd_2, get_rho_permutations=washington_permutation)\n",
    "print(\"s1 =\", R(s1.lift()).factor())\n",
    "print(\"s2 =\", R(s2.lift()).factor())\n",
    "print(\"s3 =\", R(s3.lift()).factor())\n",
    "print(\"a =\", R(a.lift()).factor())\n",
    "print(\"b =\", R(b.lift()).factor())\n",
    "print(\"c =\", R(c.lift()).factor())\n",
    "print(\"d =\", R(d.lift()).factor())\n"
   ]
  },
  {
   "cell_type": "code",
   "execution_count": null,
   "id": "c66cbde2",
   "metadata": {
    "vscode": {
     "languageId": "sage"
    }
   },
   "outputs": [],
   "source": []
  }
 ],
 "metadata": {
  "kernelspec": {
   "display_name": "SageMath 10.6",
   "language": "sage",
   "name": "sagemath"
  },
  "language_info": {
   "codemirror_mode": {
    "name": "ipython",
    "version": 3
   },
   "file_extension": ".py",
   "mimetype": "text/x-python",
   "name": "python",
   "nbconvert_exporter": "python",
   "pygments_lexer": "ipython3",
   "version": "3.12.10"
  }
 },
 "nbformat": 4,
 "nbformat_minor": 5
}
