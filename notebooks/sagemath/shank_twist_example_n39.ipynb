{
 "cells": [
  {
   "cell_type": "markdown",
   "id": "13234c88",
   "metadata": {},
   "source": [
    "Non-orthogonal WR twist"
   ]
  },
  {
   "cell_type": "code",
   "execution_count": 1,
   "id": "3fcd9f79",
   "metadata": {},
   "outputs": [
    {
     "name": "stdout",
     "output_type": "stream",
     "text": [
      "n =  39\n",
      "basis =  7/9*rho^2 + 1/9*rho + 1/9 2/3*rho^2 + 1/3*rho rho^2\n",
      "monogenic? =  27.0000000000000\n",
      "different principal? =  Fractional ideal (61, -4/3*rho^2 + 55*rho - 5/3) True\n",
      "MA =  [        -2/9*rho^2 + 1/9*rho + 1/9          4/9*rho^2 + 4/9*rho + 1/9               -1/3*rho^2 - 2/3*rho]\n",
      "[  79/9*rho^2 - 3083/9*rho - 3242/9 -164/9*rho^2 + 6400/9*rho + 6733/9     14*rho^2 - 1639/3*rho - 1724/3]\n",
      "[   -77/9*rho^2 + 3082/9*rho + 73/9   160/9*rho^2 - 6404/9*rho - 155/9       -41/3*rho^2 + 547*rho + 41/3]\n",
      "Gram matrix =  [    1  1/11 -3/11]\n",
      "[ 1/11     1     0]\n",
      "[-3/11     0     1]\n",
      "transition =  [ 1  1  0]\n",
      "[ 0  1 -2]\n",
      "[-1 -1  1]\n"
     ]
    }
   ],
   "source": [
    "from sage.matrix.special import random_unimodular_matrix\n",
    "\n",
    "n = 39\n",
    "K.<rho> = NumberField(x^3 - n*x^2 - (n+3)*x - 1)\n",
    "G = K.galois_group()\n",
    "sigma, sigma2 = G[1], G[2]\n",
    "NumberFieldMS3x3 = MatrixSpace(K,3,3)\n",
    "NumberFieldMS2x2 = MatrixSpace(K,2,2)\n",
    "UnimodularMS = MatrixSpace(ZZ,3,3)\n",
    "#Intergral basis\n",
    "basis =  K.integral_basis()\n",
    "b1 = basis[0];b2 = basis[1];b3 = basis[2]\n",
    "M = NumberFieldMS3x3([[b1, b2,b3],[sigma(b1), sigma(b2), sigma(b3)],[sigma2(b1), sigma2(b2), sigma2(b3)]])\n",
    "b1n=  1; b3n = rho; b2n=  rho^2\n",
    "Mn = NumberFieldMS3x3([[b1n, b2n,b3n],[sigma(b1n), sigma(b2n), sigma(b3n)],[sigma2(b1n), sigma2(b2n), sigma2(b3n)]])\n",
    "change_basis = (M.inverse())*Mn\n",
    "index = abs(change_basis.det())\n",
    "print('n = ',n)\n",
    "print('basis = ', b1, b2, b3)\n",
    "print('monogenic? = ', index.factor())\n",
    "print('different principal? = ', K.different(), K.different().is_principal())\n",
    "\n",
    "transition_matrixA = NumberFieldMS3x3([[1, 1,0],[0 , 1 ,-2],[-1, -1 , 1]]) # gives a non-orthogonal WR twist\n",
    "MA = M*transition_matrixA\n",
    "x1, y1, z1 = MA[0,0], MA[0,1], MA[0,2]\n",
    "x2, y2, z2 = MA[1,0], MA[1,1], MA[1,2]\n",
    "x3, y3, z3 = MA[2,0], MA[2,1], MA[2,2]\n",
    "alpha2 = det(NumberFieldMS2x2([[x2^2 - y2^2, x3^2 - y3^2],[y2^2 - z2^2, y3^2 - z3^2]]))\n",
    "beta2 = det(NumberFieldMS2x2([[x3^2 - y3^2, x1^2 - y1^2],[y3^2 - z3^2, y1^2 - z1^2]]))\n",
    "gamma2 = det(NumberFieldMS2x2([[x1^2 - y1^2, x2^2 - y2^2],[y1^2 - z1^2, y2^2 - z2^2]]))\n",
    "if alpha2.is_totally_positive()==False:\n",
    "      print('change')\n",
    "      alpha2 = -det(NumberFieldMS2x2([[x2^2 - y2^2, x3^2 - y3^2],[y2^2 - z2^2, y3^2 - z3^2]]))\n",
    "      beta2 = -det(NumberFieldMS2x2([[x3^2 - y3^2, x1^2 - y1^2],[y3^2 - z3^2, y1^2 - z1^2]]))\n",
    "      gamma2 = -det(NumberFieldMS2x2([[x1^2 - y1^2, x2^2 - y2^2],[y1^2 - z1^2, y2^2 - z2^2]]))\n",
    "At = transition_matrixA.transpose()\n",
    "Mt = M.transpose()\n",
    "T2 = NumberFieldMS3x3([[alpha2, 0, 0],[0, beta2, 0], [0, 0, gamma2]])\n",
    "T2t = T2.transpose()\n",
    "G = At*Mt*T2*M*transition_matrixA\n",
    "G = G/G[0,0]\n",
    "b, c, d = RR(G[0,1]), RR(G[0,2]), RR(G[1,2])\n",
    "angle_condition = max([abs(b), abs(c), abs(d)]) <= 1/2\n",
    "corner_condition = all([-b+c+d<=1, b-c+d<=1, b+c-d<=1, -b-c-d<=1])\n",
    "if angle_condition and corner_condition:\n",
    "   print('MA = ', MA)\n",
    "   print('Gram matrix = ', G)\n",
    "   print('transition = ', transition_matrixA)"
   ]
  },
  {
   "cell_type": "markdown",
   "id": "65f59b94",
   "metadata": {},
   "source": [
    "Orthogonal WR twist"
   ]
  },
  {
   "cell_type": "code",
   "execution_count": 2,
   "id": "71468999",
   "metadata": {},
   "outputs": [
    {
     "name": "stdout",
     "output_type": "stream",
     "text": [
      "n =  39\n",
      "basis =  7/9*rho^2 + 1/9*rho + 1/9 2/3*rho^2 + 1/3*rho rho^2\n",
      "monogenic? =  27.0000000000000\n",
      "different principal? =  Fractional ideal (61, -4/3*rho^2 + 55*rho - 5/3) True\n",
      "MA =  [        2/9*rho^2 - 1/9*rho - 1/9         1/9*rho^2 + 1/9*rho - 2/9        -2/9*rho^2 - 5/9*rho - 2/9]\n",
      "[-79/9*rho^2 + 3083/9*rho + 3242/9 -41/9*rho^2 + 1600/9*rho + 1681/9  85/9*rho^2 - 3317/9*rho - 3491/9]\n",
      "[   77/9*rho^2 - 3082/9*rho - 73/9    40/9*rho^2 - 1601/9*rho - 41/9   -83/9*rho^2 + 3322/9*rho + 82/9]\n",
      "Gram matrix =  [1 0 0]\n",
      "[0 1 0]\n",
      "[0 0 1]\n",
      "transition =  [-1 -2 -2]\n",
      "[ 0  1 -1]\n",
      "[ 1  1  2]\n"
     ]
    }
   ],
   "source": [
    "from sage.matrix.special import random_unimodular_matrix\n",
    "\n",
    "n = 39\n",
    "K.<rho> = NumberField(x^3 - n*x^2 - (n+3)*x - 1)\n",
    "G = K.galois_group()\n",
    "sigma, sigma2 = G[1], G[2]\n",
    "NumberFieldMS3x3 = MatrixSpace(K,3,3)\n",
    "NumberFieldMS2x2 = MatrixSpace(K,2,2)\n",
    "UnimodularMS = MatrixSpace(ZZ,3,3)\n",
    "#Intergral basis\n",
    "basis =  K.integral_basis()\n",
    "b1 = basis[0];b2 = basis[1];b3 = basis[2]\n",
    "M = NumberFieldMS3x3([[b1, b2,b3],[sigma(b1), sigma(b2), sigma(b3)],[sigma2(b1), sigma2(b2), sigma2(b3)]])\n",
    "b1n=  1; b3n = rho; b2n=  rho^2\n",
    "Mn = NumberFieldMS3x3([[b1n, b2n,b3n],[sigma(b1n), sigma(b2n), sigma(b3n)],[sigma2(b1n), sigma2(b2n), sigma2(b3n)]])\n",
    "change_basis = (M.inverse())*Mn\n",
    "index = abs(change_basis.det())\n",
    "print('n = ',n)\n",
    "print('basis = ', b1, b2, b3)\n",
    "print('monogenic? = ', index.factor())\n",
    "print('different principal? = ', K.different(), K.different().is_principal())\n",
    "\n",
    "transition_matrixB = NumberFieldMS3x3([[-1 ,-2, -2],[0 , 1 ,-1],[1 , 1 , 2]]) # gives an orthogonal WR twist\n",
    "MB = M*transition_matrixB\n",
    "x1, y1, z1 = MB[0,0], MB[0,1], MB[0,2]\n",
    "x2, y2, z2 = MB[1,0], MB[1,1], MB[1,2]\n",
    "x3, y3, z3 = MB[2,0], MB[2,1], MB[2,2]\n",
    "alpha2 = det(NumberFieldMS2x2([[x2^2 - y2^2, x3^2 - y3^2],[y2^2 - z2^2, y3^2 - z3^2]]))\n",
    "beta2 = det(NumberFieldMS2x2([[x3^2 - y3^2, x1^2 - y1^2],[y3^2 - z3^2, y1^2 - z1^2]]))\n",
    "gamma2 = det(NumberFieldMS2x2([[x1^2 - y1^2, x2^2 - y2^2],[y1^2 - z1^2, y2^2 - z2^2]]))\n",
    "if alpha2.is_totally_positive()==False:\n",
    "      print('change')\n",
    "      alpha2 = -det(NumberFieldMS2x2([[x2^2 - y2^2, x3^2 - y3^2],[y2^2 - z2^2, y3^2 - z3^2]]))\n",
    "      beta2 = -det(NumberFieldMS2x2([[x3^2 - y3^2, x1^2 - y1^2],[y3^2 - z3^2, y1^2 - z1^2]]))\n",
    "      gamma2 = -det(NumberFieldMS2x2([[x1^2 - y1^2, x2^2 - y2^2],[y1^2 - z1^2, y2^2 - z2^2]]))\n",
    "Bt = transition_matrixB.transpose()\n",
    "Mt = M.transpose()\n",
    "T2 = NumberFieldMS3x3([[alpha2, 0, 0],[0, beta2, 0], [0, 0, gamma2]])\n",
    "T2t = T2.transpose()\n",
    "G = Bt*Mt*T2*M*transition_matrixB\n",
    "G = G/G[0,0]\n",
    "b, c, d = RR(G[0,1]), RR(G[0,2]), RR(G[1,2])\n",
    "angle_condition = max([abs(b), abs(c), abs(d)]) <= 1/2\n",
    "corner_condition = all([-b+c+d<=1, b-c+d<=1, b+c-d<=1, -b-c-d<=1])\n",
    "if angle_condition and corner_condition:\n",
    "   print('MA = ', MB)\n",
    "   print('Gram matrix = ', G)\n",
    "   print('transition = ', transition_matrixB)"
   ]
  },
  {
   "cell_type": "code",
   "execution_count": null,
   "id": "937cf5e4",
   "metadata": {},
   "outputs": [],
   "source": []
  }
 ],
 "metadata": {
  "kernelspec": {
   "display_name": "SageMath 10.6",
   "language": "sage",
   "name": "sagemath"
  },
  "language_info": {
   "codemirror_mode": {
    "name": "ipython",
    "version": 3
   },
   "file_extension": ".py",
   "mimetype": "text/x-python",
   "name": "sage",
   "nbconvert_exporter": "python",
   "pygments_lexer": "ipython3",
   "version": "3.12.10"
  }
 },
 "nbformat": 4,
 "nbformat_minor": 5
}
