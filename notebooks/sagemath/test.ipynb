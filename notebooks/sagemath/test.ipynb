{
 "cells": [
  {
   "cell_type": "code",
   "execution_count": 4,
   "id": "3fcd9f79",
   "metadata": {
    "vscode": {
     "languageId": "sage"
    }
   },
   "outputs": [
    {
     "name": "stdout",
     "output_type": "stream",
     "text": [
      "n 3\n",
      "b1 norm: 1\n",
      "b2 norm: 1\n",
      "b3 norm: -1\n",
      "########\n",
      "n 21\n",
      "b1 norm: 19\n",
      "b2 norm: 1\n",
      "b3 norm: -1\n",
      "########\n",
      "n 30\n",
      "b1 norm: 37\n",
      "b2 norm: 1\n",
      "b3 norm: -1\n",
      "########\n",
      "n 48\n",
      "b1 norm: 7 * 13\n",
      "b2 norm: 1\n",
      "b3 norm: -1\n",
      "########\n"
     ]
    }
   ],
   "source": [
    " for n in [3,21,30,48]:\n",
    "    f = x^3 - n*x^2 - (n+3)*x - 1\n",
    "    F.<rho> = NumberField(f)\n",
    "    G = F.galois_group()\n",
    "    sigma, sigma2 = G[1], G[2]\n",
    "    NumberFieldMS3x3 = MatrixSpace(F,3,3)\n",
    "    NumberFieldMS2x2 = MatrixSpace(F,2,2)\n",
    "    UnimodularMS = MatrixSpace(ZZ,3,3)\n",
    "    #Intergral basis\n",
    "    basis =  F.integral_basis()\n",
    "    #     b1 = basis[0];b2 = basis[1];b3 = basis[2]\n",
    "    b1 = (1+rho+rho^2)/3;b2=rho;b3=(rho+rho^2)\n",
    "    print('n',n)\n",
    "    print('b1 norm:',factor(b1.norm()))\n",
    "    print('b2 norm:',factor(b2.norm()))\n",
    "    print('b3 norm:',factor(b3.norm()))\n",
    "    print(\"########\")"
   ]
  },
  {
   "cell_type": "code",
   "execution_count": null,
   "id": "71468999",
   "metadata": {
    "vscode": {
     "languageId": "sage"
    }
   },
   "outputs": [],
   "source": []
  }
 ],
 "metadata": {
  "kernelspec": {
   "display_name": "SageMath 10.6",
   "language": "sage",
   "name": "sagemath"
  },
  "language_info": {
   "codemirror_mode": {
    "name": "ipython",
    "version": 3
   },
   "file_extension": ".py",
   "mimetype": "text/x-python",
   "name": "python",
   "nbconvert_exporter": "python",
   "pygments_lexer": "ipython3",
   "version": "3.12.10"
  }
 },
 "nbformat": 4,
 "nbformat_minor": 5
}
