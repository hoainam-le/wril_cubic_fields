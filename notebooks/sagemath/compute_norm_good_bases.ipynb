{
 "cells": [
  {
   "cell_type": "code",
   "execution_count": 3,
   "id": "5194b56d",
   "metadata": {
    "vscode": {
     "languageId": "sage"
    }
   },
   "outputs": [],
   "source": [
    "def compute_norm(df, rho, basis, get_rho_permutations):\n",
    "    rho1, rho2, rho3 = get_rho_permutations(rho)\n",
    "    x1, y1, z1 = basis(rho1)\n",
    "    x2, y2, z2 = basis(rho2)\n",
    "    x3, y3, z3 = basis(rho3)\n",
    "    Norm_x = x1*x2*x3\n",
    "    Norm_y = y1*y2*y3\n",
    "    Norm_z = z1*z2*z3\n",
    "    return Norm_x, Norm_y, Norm_z\n",
    "\n"
   ]
  },
  {
   "cell_type": "code",
   "execution_count": null,
   "id": "dfacb9ff",
   "metadata": {
    "vscode": {
     "languageId": "sage"
    }
   },
   "outputs": [
    {
     "name": "stdout",
     "output_type": "stream",
     "text": [
      "Norm_x: 1/27*n^2 + 1/9*n + 1/3\n",
      "Norm_y: 1\n",
      "Norm_z: -1\n"
     ]
    }
   ],
   "source": [
    "###\n",
    "R.<n> = QQ[]\n",
    "K.<r> = FractionField(R)[]\n",
    "df = r^3 - n*r^2 - (n + 3)*r - 1\n",
    "L.<rho> = K.quotient(df)\n",
    "\n",
    "def shank_basis(r):\n",
    "    x = (1 + r + r^2)/3; y = r;z = r + r^2\n",
    "    return x, y, z\n",
    "def shank_permutation(rho):\n",
    "    rho1 = rho\n",
    "    rho2 = -1 / (1 + rho1)\n",
    "    rho3 = -1/(1+ rho2)\n",
    "    return rho1, rho2, rho3\n",
    "\n",
    "Norm_x, Norm_y, Norm_z = compute_norm(df =df,rho = rho, basis = shank_basis, get_rho_permutations = shank_permutation)\n",
    "print(\"Norm_x:\", Norm_x)\n",
    "print(\"Norm_y:\", Norm_y)\n",
    "print(\"Norm_z:\", Norm_z)"
   ]
  },
  {
   "cell_type": "code",
   "execution_count": null,
   "id": "1309d762",
   "metadata": {
    "vscode": {
     "languageId": "sage"
    }
   },
   "outputs": [
    {
     "name": "stdout",
     "output_type": "stream",
     "text": [
      "Norm_x: 1/8*n^3 - 3/8*n^2 + 3/8*n - 1/8\n",
      "Norm_y: 1/8*n^3 - 3/8*n^2 + 3/8*n - 1/8\n",
      "Norm_z: 1/8*n^3 - 3/8*n^2 + 3/8*n - 1/8\n"
     ]
    }
   ],
   "source": [
    "###\n",
    "R.<n> = QQ[]\n",
    "K.<r> = FractionField(R)[]\n",
    "df =  r^3 -(n^3-2*n^2+3*n-3)*r^2-n^2*r-1\n",
    "L.<rho> = K.quotient(df)\n",
    "\n",
    "def washington_basis(r):\n",
    "    #x = r;y = (r^2 - 1)/(n - 1) - r;z = r^2\n",
    "    #x = r^2; y=  (n-2)/(2*n-2)*r^2+1/2*r+1/(2*n-2);z = (r^2+r)/2\n",
    "    x = (n-2)/(2*n-2)*r^2+1/2*r+1/(2*n-2);y= -(r^2-1)/(2*n-2)+r;z=(r^2+r)/2\n",
    "    return x, y, z\n",
    "def washington_permutation(rho):\n",
    "    rho1 = rho\n",
    "    rho2 = -(rho+1)/((n^2-n+1)*rho+n)\n",
    "    rho3 = -(rho2+1)/((n^2-n+1)*rho2+n)\n",
    "    return rho1, rho2, rho3\n",
    "Norm_x, Norm_y, Norm_z = compute_norm(df =df,rho = rho, basis = washington_basis, get_rho_permutations = washington_permutation)\n",
    "print(\"Norm_x:\", Norm_x)\n",
    "print(\"Norm_y:\", Norm_y)\n",
    "print(\"Norm_z:\", Norm_z)"
   ]
  },
  {
   "cell_type": "code",
   "execution_count": 36,
   "id": "3cf99e2f",
   "metadata": {
    "vscode": {
     "languageId": "sage"
    }
   },
   "outputs": [
    {
     "name": "stdout",
     "output_type": "stream",
     "text": [
      "Norm_x: -1/72*n^5 + 5/216*n^4 - 1/54*n^3 + 4/27*n^2 - 1/24*n + 17/72\n",
      "Norm_y: -1/72*n^5 - 11/216*n^4 - 5/54*n^3 - 4/27*n^2 - 1/24*n + 1/72\n",
      "Norm_z: 1/27*n^4 + 1/27*n^3 + 4/27*n^2 + 1/9\n"
     ]
    }
   ],
   "source": [
    "R.<n> = QQ[]\n",
    "K.<r> = FractionField(R)[]\n",
    "df =  r^3-n*(n^2+n+3)*(n^2+2)*r^2-(n^3+2*n^2+3*n+3)*r-1\n",
    "L.<rho> = K.quotient(df)\n",
    "\n",
    "def kishi_basis(r):\n",
    "    x = (n*r^2+(n^2+n+2)*r+1)/(n^2+1);y = r; z = r^2\n",
    "    #x = n/(3*(n^2+1))*r^2 + (n^2+n+2)/(3*(n^2+1))*r + 1/(3*(n^2+1));y = r;z = r^2\n",
    "    #x = -(n*r^2+(2*n^2+n+3)*r+1)/(2*n^2+2);y = (r^2+r)/2; z = r\n",
    "    #x = ((n^2-n+1)*r^2-(n^2+n+2)*r-1)/(2*n^2+2); y = (r^2+r)/2;z = -r^2\n",
    "    #x = ((n^2+n+1)*r^2+(n^2+n+2)*r+1)/(2*n^2+2); y = (r^2+r)/2; z = r^2\n",
    "    #x = (n*r^2+(n+1)*r+1)/(2*n^2+2);y = (r^2+r)/2;z = -r\n",
    "    #x = (3*n^2+n+3)/(6*(n^2+1))*r^2 + (n^2+n+2)/(6*(n^2+1))*r + 1/(6*(n^2+1)); y = (r^2+r)/2;  z = r^2\n",
    "    x = (3*n^2+n+3)/(6*(n^2+1))*r^2 + (n^2+n+2)/(6*(n^2+1))*r + 1/(6*(n^2+1)); y = (-n)/(6*(n^2+1))*r^2 + (2*n^2-n+1)/(6*(n^2+1))*r - 1/(6*(n^2+1)); z = (-n)/(3*(n^2+1))*r^2 - (n^2+n+2)/(3*(n^2+1))*r - 1/(3*(n^2+1))\n",
    "    #x =  (r^2-r)/3; y =  r^2;z = -(3*n^2+n+3)/(9*n^2+9)*r^2 -(n^2+n+2)/(9*n^2+9)* r  -1/(9*n^2+9)\n",
    "    #x =  ((3*n^2+n+3)*r^2+(n^2+n+2)*r+1)/(9*(n^2+1)); y =  ((n)*r^2+(4*n^2+n+5)*r+1)/(9*(n^2+1)); z =  ((-n)*r^2-(n^2+n+2)*r-1)/(3*(n^2+1))\n",
    "    #x =  r^2;  y =  (-r^2+r)/6; z = -(3*n^2+n+3)/(18*n^2+18)*r^2 -(n^2+n+2)/(18*n^2+18)* r  -1/(18*n^2+18)\n",
    "    return x, y, z\n",
    "def kishi_permutation(rho):\n",
    "    rho1 = rho\n",
    "    rho2 = -(n*rho+1)/((n^4 + n^3 + 3*n^2 + n + 1)*rho+(n^2 + n + 1))\n",
    "    rho3 = -(n*rho2+1)/((n^4 + n^3 + 3*n^2 + n + 1)*rho2+(n^2 + n + 1))\n",
    "    return rho1, rho2, rho3\n",
    "\n",
    "Norm_x, Norm_y, Norm_z = compute_norm(df =df,rho = rho, basis = kishi_basis, get_rho_permutations = kishi_permutation)\n",
    "print(\"Norm_x:\", Norm_x)\n",
    "print(\"Norm_y:\", Norm_y)\n",
    "print(\"Norm_z:\", Norm_z)"
   ]
  },
  {
   "cell_type": "code",
   "execution_count": null,
   "id": "6a8aa97f",
   "metadata": {
    "vscode": {
     "languageId": "sage"
    }
   },
   "outputs": [],
   "source": []
  }
 ],
 "metadata": {
  "kernelspec": {
   "display_name": "SageMath 10.6",
   "language": "sage",
   "name": "sagemath"
  },
  "language_info": {
   "codemirror_mode": {
    "name": "ipython",
    "version": 3
   },
   "file_extension": ".py",
   "mimetype": "text/x-python",
   "name": "python",
   "nbconvert_exporter": "python",
   "pygments_lexer": "ipython3",
   "version": "3.12.10"
  }
 },
 "nbformat": 4,
 "nbformat_minor": 5
}
