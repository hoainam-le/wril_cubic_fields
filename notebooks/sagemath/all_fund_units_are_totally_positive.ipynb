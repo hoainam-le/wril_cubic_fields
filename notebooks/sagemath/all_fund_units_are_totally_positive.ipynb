{
 "cells": [
  {
   "cell_type": "markdown",
   "id": "40034cbe",
   "metadata": {},
   "source": [
    "Cyclic cubic Fields when $3$ doesnot divide the conductor $m$"
   ]
  },
  {
   "cell_type": "code",
   "execution_count": 1,
   "id": "f06af3e1",
   "metadata": {
    "vscode": {
     "languageId": "sage"
    }
   },
   "outputs": [],
   "source": [
    "def find_a_m2(bound_a,bound_b):\n",
    "    list_ = []\n",
    "    for a in range(-bound_a,bound_a):\n",
    "        for b in range(1,bound_b):\n",
    "            m=(a^2+3*b^2)/4\n",
    "            if a%3==2 and b%3==0 and round((1-m)/3)==(1-m)/3 and round(m)==m and round((m*(a-3)+1)/27)==(m*(a-3)+1)/27:\n",
    "                f = x^3+x^2+(1-m)/3*x+ (m*(a-3)+1)/27\n",
    "                P = PolynomialRing(ZZ, 'x')\n",
    "                f_poly = P(f) #poly\n",
    "                if f_poly.is_irreducible():\n",
    "                    list_.append([a,m])\n",
    "    return list_"
   ]
  },
  {
   "cell_type": "code",
   "execution_count": 2,
   "id": "b253c8ae",
   "metadata": {
    "vscode": {
     "languageId": "sage"
    }
   },
   "outputs": [
    {
     "name": "stdout",
     "output_type": "stream",
     "text": [
      "K = Number Field in z with defining polynomial x^3 + x^2 - 2676*x - 53824\n",
      "a = -178 m = 8029\n",
      "Is K totally real: True\n",
      "Is K Galois over Q: True\n",
      "Are all fundamental units totally positive: True\n",
      "h+/h = 4\n",
      "K = Number Field in z with defining polynomial x^3 + x^2 - 11482*x - 227095\n",
      "a = -175 m = 34447\n",
      "Is K totally real: True\n",
      "Is K Galois over Q: True\n",
      "Are all fundamental units totally positive: True\n",
      "h+/h = 4\n",
      "K = Number Field in z with defining polynomial x^3 + x^2 - 11144*x - 205551\n",
      "a = -163 m = 33433\n",
      "Is K totally real: True\n",
      "Is K Galois over Q: True\n",
      "Are all fundamental units totally positive: True\n",
      "h+/h = 4\n",
      "K = Number Field in z with defining polynomial x^3 + x^2 - 2012*x - 35104\n",
      "a = -154 m = 6037\n",
      "Is K totally real: True\n",
      "Is K Galois over Q: True\n",
      "Are all fundamental units totally positive: True\n",
      "h+/h = 4\n",
      "K = Number Field in z with defining polynomial x^3 + x^2 - 5682*x - 97231\n",
      "a = -151 m = 17047\n",
      "Is K totally real: True\n",
      "Is K Galois over Q: True\n",
      "Are all fundamental units totally positive: True\n",
      "h+/h = 4\n",
      "K = Number Field in z with defining polynomial x^3 + x^2 - 8816*x - 74449\n",
      "a = -73 m = 26449\n",
      "Is K totally real: True\n",
      "Is K Galois over Q: True\n",
      "Are all fundamental units totally positive: True\n",
      "h+/h = 4\n",
      "K = Number Field in z with defining polynomial x^3 + x^2 - 1064*x - 6859\n",
      "a = -55 m = 3193\n",
      "Is K totally real: True\n",
      "Is K Galois over Q: True\n",
      "Are all fundamental units totally positive: True\n",
      "h+/h = 4\n",
      "K = Number Field in z with defining polynomial x^3 + x^2 - 234*x - 729\n",
      "a = -25 m = 703\n",
      "Is K totally real: True\n",
      "Is K Galois over Q: True\n",
      "Are all fundamental units totally positive: True\n",
      "h+/h = 4\n",
      "K = Number Field in z with defining polynomial x^3 + x^2 - 2932*x + 3584\n",
      "a = 14 m = 8797\n",
      "Is K totally real: True\n",
      "Is K Galois over Q: True\n",
      "Are all fundamental units totally positive: True\n",
      "h+/h = 4\n",
      "K = Number Field in z with defining polynomial x^3 + x^2 - 5472*x + 15809\n",
      "a = 29 m = 16417\n",
      "Is K totally real: True\n",
      "Is K Galois over Q: True\n",
      "Are all fundamental units totally positive: True\n",
      "h+/h = 4\n",
      "K = Number Field in z with defining polynomial x^3 + x^2 - 1546*x + 6529\n",
      "a = 41 m = 4639\n",
      "Is K totally real: True\n",
      "Is K Galois over Q: True\n",
      "Are all fundamental units totally positive: True\n",
      "h+/h = 4\n",
      "K = Number Field in z with defining polynomial x^3 + x^2 - 4257*x + 50615\n",
      "a = 110 m = 12772\n",
      "Is K totally real: True\n",
      "Is K Galois over Q: True\n",
      "Are all fundamental units totally positive: True\n",
      "h+/h = 4\n",
      "K = Number Field in z with defining polynomial x^3 + x^2 - 1452*x + 18719\n",
      "a = 119 m = 4357\n",
      "Is K totally real: True\n",
      "Is K Galois over Q: True\n",
      "Are all fundamental units totally positive: True\n",
      "h+/h = 4\n",
      "K = Number Field in z with defining polynomial x^3 + x^2 - 2265*x + 31463\n",
      "a = 128 m = 6796\n",
      "Is K totally real: True\n",
      "Is K Galois over Q: True\n",
      "Are all fundamental units totally positive: True\n",
      "h+/h = 4\n",
      "K = Number Field in z with defining polynomial x^3 + x^2 - 8170*x + 132541\n",
      "a = 149 m = 24511\n",
      "Is K totally real: True\n",
      "Is K Galois over Q: True\n",
      "Are all fundamental units totally positive: True\n",
      "h+/h = 4\n",
      "K = Number Field in z with defining polynomial x^3 + x^2 - 4452*x + 75195\n",
      "a = 155 m = 13357\n",
      "Is K totally real: True\n",
      "Is K Galois over Q: True\n",
      "Are all fundamental units totally positive: True\n",
      "h+/h = 4\n",
      "K = Number Field in z with defining polynomial x^3 + x^2 - 2342*x + 41121\n",
      "a = 161 m = 7027\n",
      "Is K totally real: True\n",
      "Is K Galois over Q: True\n",
      "Are all fundamental units totally positive: True\n",
      "h+/h = 4\n",
      "K = Number Field in z with defining polynomial x^3 + x^2 - 8176*x + 148991\n",
      "a = 167 m = 24529\n",
      "Is K totally real: True\n",
      "Is K Galois over Q: True\n",
      "Are all fundamental units totally positive: True\n",
      "h+/h = 4\n",
      "K = Number Field in z with defining polynomial x^3 + x^2 - 11224*x + 226981\n",
      "a = 185 m = 33673\n",
      "Is K totally real: True\n",
      "Is K Galois over Q: True\n",
      "Are all fundamental units totally positive: True\n",
      "h+/h = 4\n",
      "K = Number Field in z with defining polynomial x^3 + x^2 - 3222*x + 67311\n",
      "a = 191 m = 9667\n",
      "Is K totally real: True\n",
      "Is K Galois over Q: True\n",
      "Are all fundamental units totally positive: True\n",
      "h+/h = 4\n",
      "K = Number Field in z with defining polynomial x^3 + x^2 - 4640*x + 100025\n",
      "a = 197 m = 13921\n",
      "Is K totally real: True\n",
      "Is K Galois over Q: True\n",
      "Are all fundamental units totally positive: True\n",
      "h+/h = 4\n"
     ]
    }
   ],
   "source": [
    "list_am = find_a_m2(200,200)\n",
    "for i in range(len(list_am)):\n",
    "    a,m = list_am[i]\n",
    "    f = x^3+x^2+(1-m)/3*x+ (m*(a-3)+1)/27\n",
    "    K.<z> = NumberField(f)\n",
    "    cn = K.class_number()\n",
    "    ncn = K.narrow_class_group().order()\n",
    "    \n",
    "    fund_units = K.unit_group().fundamental_units()\n",
    "    if all([u.is_totally_positive() for u in fund_units]):\n",
    "        print(\"K =\", K)\n",
    "        print(\"a =\", a, \"m =\", m)\n",
    "        print(\"Is K totally real:\", K.is_totally_real())\n",
    "        print(\"Is K Galois over Q:\", K.is_galois())\n",
    "        print(\"Are all fundamental units totally positive:\", all([u.is_totally_positive() for u in fund_units]))\n",
    "        print(\"h+/h =\", ncn/cn)\n",
    "        "
   ]
  },
  {
   "cell_type": "markdown",
   "id": "eff124f6",
   "metadata": {},
   "source": [
    "Cyclic cubic Fields when $3$ divides the conductor $m$"
   ]
  },
  {
   "cell_type": "code",
   "execution_count": 3,
   "id": "50b8b544",
   "metadata": {
    "vscode": {
     "languageId": "sage"
    }
   },
   "outputs": [],
   "source": [
    "def find_a_m(bound_a,bound_b):\n",
    "    list_ = []\n",
    "    for a in range(-bound_a,bound_a):\n",
    "        for b in range(1,bound_b):\n",
    "            m=(a^2+3*b^2)/4\n",
    "            if a%9==6 and b%3==0 and b%9!=0 and round(m/3)==m/3 and round(m)==m and round(a*m/27)==a*m/27:\n",
    "                f = x^3-m/3*x-a*m/27\n",
    "                P = PolynomialRing(ZZ, 'x')\n",
    "                f_poly = P(f) #poly\n",
    "                if f_poly.is_irreducible():\n",
    "                    list_.append([a,m])\n",
    "    return list_"
   ]
  },
  {
   "cell_type": "code",
   "execution_count": 4,
   "id": "49f63b9b",
   "metadata": {
    "vscode": {
     "languageId": "sage"
    }
   },
   "outputs": [
    {
     "name": "stdout",
     "output_type": "stream",
     "text": [
      "K = Number Field in z with defining polynomial x^3 - 7653*x + 132652\n",
      "a = -156 m = 22959\n",
      "Is K totally real: True\n",
      "Is K Galois over Q: True\n",
      "Are all fundamental units totally positive: True\n",
      "h+/h = 4\n",
      "K = Number Field in z with defining polynomial x^3 - 2127*x + 21979\n",
      "a = -93 m = 6381\n",
      "Is K totally real: True\n",
      "Is K Galois over Q: True\n",
      "Are all fundamental units totally positive: True\n",
      "h+/h = 4\n",
      "K = Number Field in z with defining polynomial x^3 - 5421*x - 9035\n",
      "a = 15 m = 16263\n",
      "Is K totally real: True\n",
      "Is K Galois over Q: True\n",
      "Are all fundamental units totally positive: True\n",
      "h+/h = 4\n",
      "K = Number Field in z with defining polynomial x^3 - 948*x - 2528\n",
      "a = 24 m = 2844\n",
      "Is K totally real: True\n",
      "Is K Galois over Q: True\n",
      "Are all fundamental units totally positive: True\n",
      "h+/h = 4\n",
      "K = Number Field in z with defining polynomial x^3 - 5925*x - 39500\n",
      "a = 60 m = 17775\n",
      "Is K totally real: True\n",
      "Is K Galois over Q: True\n",
      "Are all fundamental units totally positive: True\n",
      "h+/h = 4\n",
      "K = Number Field in z with defining polynomial x^3 - 9093*x - 124271\n",
      "a = 123 m = 27279\n",
      "Is K totally real: True\n",
      "Is K Galois over Q: True\n",
      "Are all fundamental units totally positive: True\n",
      "h+/h = 4\n"
     ]
    }
   ],
   "source": [
    "list_am = find_a_m(200,200)\n",
    "for i in range(len(list_am)):\n",
    "    a,m = list_am[i]\n",
    "    f = x^3-m/3*x-a*m/27\n",
    "    K.<z> = NumberField(f)\n",
    "    cn = K.class_number()\n",
    "    ncn = K.narrow_class_group().order()\n",
    "    \n",
    "    fund_units = K.unit_group().fundamental_units()\n",
    "    if all([u.is_totally_positive() for u in fund_units]):\n",
    "        print(\"K =\", K)\n",
    "        print(\"a =\", a, \"m =\", m)\n",
    "        print(\"Is K totally real:\", K.is_totally_real())\n",
    "        print(\"Is K Galois over Q:\", K.is_galois())\n",
    "        print(\"Are all fundamental units totally positive:\", all([u.is_totally_positive() for u in fund_units]))\n",
    "        print(\"h+/h =\", ncn/cn)\n",
    "        "
   ]
  },
  {
   "cell_type": "code",
   "execution_count": null,
   "id": "56e47f16",
   "metadata": {
    "vscode": {
     "languageId": "sage"
    }
   },
   "outputs": [],
   "source": []
  }
 ],
 "metadata": {
  "kernelspec": {
   "display_name": "SageMath 10.6",
   "language": "sage",
   "name": "sagemath"
  },
  "language_info": {
   "codemirror_mode": {
    "name": "ipython",
    "version": 3
   },
   "file_extension": ".py",
   "mimetype": "text/x-python",
   "name": "python",
   "nbconvert_exporter": "python",
   "pygments_lexer": "ipython3",
   "version": "3.12.10"
  }
 },
 "nbformat": 4,
 "nbformat_minor": 5
}
