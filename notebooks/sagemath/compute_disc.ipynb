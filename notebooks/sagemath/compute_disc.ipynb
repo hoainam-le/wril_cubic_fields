{
 "cells": [
  {
   "cell_type": "code",
   "execution_count": 1,
   "id": "7e802b21",
   "metadata": {
    "vscode": {
     "languageId": "sage"
    }
   },
   "outputs": [],
   "source": [
    "def compute_disc(df, rho, basis, get_rho_permutations):\n",
    "    rho1, rho2, rho3 = get_rho_permutations(rho)\n",
    "    x1, y1, z1 = basis(rho1)\n",
    "    x2, y2, z2 = basis(rho2)\n",
    "    x3, y3, z3 = basis(rho3)\n",
    "\n",
    "    M_disc = Matrix([[x1,y1,z1],\n",
    "                    [x2,y2,z2], \n",
    "                    [x3,y3,z3]])\n",
    "    disc = M_disc.det()\n",
    "\n",
    "    return disc\n",
    "\n"
   ]
  },
  {
   "cell_type": "markdown",
   "id": "9ef96b0b",
   "metadata": {},
   "source": [
    "Washington’s cyclic cubic fields, $n$ even, basis $\\left\\{\\rho,\\dfrac{\\rho^2-1}{n-1}-\\rho,\\rho^2\\right\\}$"
   ]
  },
  {
   "cell_type": "code",
   "execution_count": 2,
   "id": "8bd25957",
   "metadata": {
    "vscode": {
     "languageId": "sage"
    }
   },
   "outputs": [
    {
     "name": "stdout",
     "output_type": "stream",
     "text": [
      "disc = (n^2 - 3*n + 3)^2 * (n^2 + 3)^2\n"
     ]
    }
   ],
   "source": [
    "R.<n> = QQ[]\n",
    "K.<r> = FractionField(R)[]\n",
    "df =  r^3 -(n^3-2*n^2+3*n-3)*r^2-n^2*r-1\n",
    "L.<rho> = K.quotient(df)\n",
    "\n",
    "def washington_basis_n_even(r):\n",
    "    x = r\n",
    "    y = (r^2-1)/(n-1)-r \n",
    "    z = r^2\n",
    "    return x, y, z\n",
    "    \n",
    "def washington_permutation(rho):\n",
    "    rho1 = rho\n",
    "    rho2 = -(rho+1)/((n^2-n+1)*rho+n)\n",
    "    rho3 = -(rho2+1)/((n^2-n+1)*rho2+n)\n",
    "    return rho1, rho2, rho3\n",
    "\n",
    "disc = compute_disc(df, rho, basis=washington_basis_n_even, get_rho_permutations=washington_permutation)^2\n",
    "print(\"disc =\", R(disc.lift()).factor())\n"
   ]
  },
  {
   "cell_type": "markdown",
   "id": "e626525d",
   "metadata": {},
   "source": [
    "Washington’s cyclic cubic fields, $n$ odd, basis $\\left\\{\\dfrac{\\rho^2-1}{2n-2},\\dfrac{\\rho^2+\\rho}{2},\\rho^2\\right\\}$"
   ]
  },
  {
   "cell_type": "code",
   "execution_count": 3,
   "id": "7a2aa678",
   "metadata": {
    "vscode": {
     "languageId": "sage"
    }
   },
   "outputs": [
    {
     "name": "stdout",
     "output_type": "stream",
     "text": [
      "disc = (1/16) * (n^2 - 3*n + 3)^2 * (n^2 + 3)^2\n"
     ]
    }
   ],
   "source": [
    "R.<n> = QQ[]\n",
    "K.<r> = FractionField(R)[]\n",
    "df =  r^3 -(n^3-2*n^2+3*n-3)*r^2-n^2*r-1\n",
    "L.<rho> = K.quotient(df)\n",
    "\n",
    "def washington_basis_n_odd(r):\n",
    "    x = (r^2-1)/(2*n-2)\n",
    "    y = (r^2+r)/2\n",
    "    z = r^2\n",
    "    return x, y, z\n",
    "    \n",
    "def washington_permutation(rho):\n",
    "    rho1 = rho\n",
    "    rho2 = -(rho+1)/((n^2-n+1)*rho+n)\n",
    "    rho3 = -(rho2+1)/((n^2-n+1)*rho2+n)\n",
    "    return rho1, rho2, rho3\n",
    "\n",
    "disc = compute_disc(df, rho, basis=washington_basis_n_odd, get_rho_permutations=washington_permutation)^2\n",
    "print(\"disc =\", R(disc.lift()).factor())\n"
   ]
  },
  {
   "cell_type": "markdown",
   "id": "fec71ef3",
   "metadata": {},
   "source": [
    "Kishi's cyclic cubic fields, $n \\equiv 0,2 \\pmod{6} \\text{ or } n \\equiv 4,10 \\pmod{18}$, basis $\\left\\{\\dfrac{n\\rho^2+(n+1)\\rho+1}{n^2+1},\\rho,\\rho^2\\right\\}$"
   ]
  },
  {
   "cell_type": "code",
   "execution_count": 4,
   "id": "9f7b477f",
   "metadata": {
    "vscode": {
     "languageId": "sage"
    }
   },
   "outputs": [
    {
     "name": "stdout",
     "output_type": "stream",
     "text": [
      "disc = (n^2 + 3)^2 * (n^4 + n^3 + 4*n^2 + 3)^2\n"
     ]
    }
   ],
   "source": [
    "R.<n> = QQ[]\n",
    "K.<r> = FractionField(R)[]\n",
    "df =  r^3-n*(n^2+n+3)*(n^2+2)*r^2-(n^3+2*n^2+3*n+3)*r-1\n",
    "L.<rho> = K.quotient(df)\n",
    "\n",
    "def kishi_basis(r):\n",
    "    x = (n*r^2+(n+1)*r+1)/(n^2+1)\n",
    "    y = r\n",
    "    z = r^2\n",
    "    return x, y, z\n",
    "def kishi_permutation(rho):\n",
    "    rho1 = rho\n",
    "    rho2 = -(n*rho+1)/((n^4 + n^3 + 3*n^2 + n + 1)*rho+(n^2 + n + 1))\n",
    "    rho3 = -(n*rho2+1)/((n^4 + n^3 + 3*n^2 + n + 1)*rho2+(n^2 + n + 1))\n",
    "    return rho1, rho2, rho3\n",
    "\n",
    "disc = compute_disc(df, rho, basis=kishi_basis, get_rho_permutations=kishi_permutation)^2\n",
    "print(\"disc =\", R(disc.lift()).factor())\n"
   ]
  },
  {
   "cell_type": "markdown",
   "id": "21d962f3",
   "metadata": {},
   "source": [
    "Kishi's cyclic cubic fields, $n \\equiv 34,52 \\pmod{54}$, basis $\\left\\{\\dfrac{n}{3(n^2+1)}\\rho^2+\\dfrac{n^2+n+2}{3(n^2+1)}\\rho+\\dfrac{1}{3(n^2+1)}, \\rho,\\rho^2\\right\\}$"
   ]
  },
  {
   "cell_type": "code",
   "execution_count": 6,
   "id": "175128cb",
   "metadata": {
    "vscode": {
     "languageId": "sage"
    }
   },
   "outputs": [
    {
     "name": "stdout",
     "output_type": "stream",
     "text": [
      "disc = (1/9) * (n^2 + 3)^2 * (n^4 + n^3 + 4*n^2 + 3)^2\n"
     ]
    }
   ],
   "source": [
    "R.<n> = QQ[]\n",
    "K.<r> = FractionField(R)[]\n",
    "df =  r^3-n*(n^2+n+3)*(n^2+2)*r^2-(n^3+2*n^2+3*n+3)*r-1\n",
    "L.<rho> = K.quotient(df)\n",
    "\n",
    "def kishi_basis(r):\n",
    "    x = (n*r^2+(n^2+n+2)*r+1)/(3*(n^2+1))\n",
    "    y = r\n",
    "    z = r^2\n",
    "    return x, y, z\n",
    "def kishi_permutation(rho):\n",
    "    rho1 = rho\n",
    "    rho2 = -(n*rho+1)/((n^4 + n^3 + 3*n^2 + n + 1)*rho+(n^2 + n + 1))\n",
    "    rho3 = -(n*rho2+1)/((n^4 + n^3 + 3*n^2 + n + 1)*rho2+(n^2 + n + 1))\n",
    "    return rho1, rho2, rho3\n",
    "\n",
    "disc = compute_disc(df, rho, basis=kishi_basis, get_rho_permutations=kishi_permutation)^2\n",
    "print(\"disc =\", R(disc.lift()).factor())\n"
   ]
  },
  {
   "cell_type": "markdown",
   "id": "bc80a2a6",
   "metadata": {},
   "source": [
    "Kishi's cyclic cubic fields, $n \\equiv 3,5 \\pmod{6} \\text{ or } n \\equiv 1,13 \\pmod{18}$, basis $\\left\\{\\dfrac{n\\rho^2+(n+1)\\rho+1}{2(n^2+1)},\\dfrac{\\rho^2+\\rho}{2},\\rho^2\\right\\}$"
   ]
  },
  {
   "cell_type": "code",
   "execution_count": 5,
   "id": "31aaf199",
   "metadata": {
    "vscode": {
     "languageId": "sage"
    }
   },
   "outputs": [
    {
     "name": "stdout",
     "output_type": "stream",
     "text": [
      "disc = (1/16) * (n^2 + 3)^2 * (n^4 + n^3 + 4*n^2 + 3)^2\n"
     ]
    }
   ],
   "source": [
    "R.<n> = QQ[]\n",
    "K.<r> = FractionField(R)[]\n",
    "df =  r^3-n*(n^2+n+3)*(n^2+2)*r^2-(n^3+2*n^2+3*n+3)*r-1\n",
    "L.<rho> = K.quotient(df)\n",
    "\n",
    "def kishi_basis(r):\n",
    "    x = (n*r^2+(n+1)*r+1)/(2*n^2+2)\n",
    "    y = (r^2+r)/2\n",
    "    z = r^2\n",
    "    return x, y, z\n",
    "def kishi_permutation(rho):\n",
    "    rho1 = rho\n",
    "    rho2 = -(n*rho+1)/((n^4 + n^3 + 3*n^2 + n + 1)*rho+(n^2 + n + 1))\n",
    "    rho3 = -(n*rho2+1)/((n^4 + n^3 + 3*n^2 + n + 1)*rho2+(n^2 + n + 1))\n",
    "    return rho1, rho2, rho3\n",
    "\n",
    "disc = compute_disc(df, rho, basis=kishi_basis, get_rho_permutations=kishi_permutation)^2\n",
    "print(\"disc =\", R(disc.lift()).factor())\n"
   ]
  },
  {
   "cell_type": "markdown",
   "id": "b80e40a2",
   "metadata": {},
   "source": [
    "Kishi's cyclic cubic fields, $n \\equiv 7,25 \\pmod{54}$, basis $\\left\\{\\dfrac{3n^2+n+3}{6(n^2+1)}\\rho^2+\\dfrac{n^2+n+2}{6(n^2+1)}\\rho+\\dfrac{1}{6(n^2+1)}, \\dfrac{\\rho^2+\\rho}{2},\\rho^2\\right\\}$"
   ]
  },
  {
   "cell_type": "code",
   "execution_count": 7,
   "id": "2c1b692b",
   "metadata": {
    "vscode": {
     "languageId": "sage"
    }
   },
   "outputs": [
    {
     "name": "stdout",
     "output_type": "stream",
     "text": [
      "disc = (1/144) * (n^2 + 3)^2 * (n^4 + n^3 + 4*n^2 + 3)^2\n"
     ]
    }
   ],
   "source": [
    "R.<n> = QQ[]\n",
    "K.<r> = FractionField(R)[]\n",
    "df =  r^3-n*(n^2+n+3)*(n^2+2)*r^2-(n^3+2*n^2+3*n+3)*r-1\n",
    "L.<rho> = K.quotient(df)\n",
    "\n",
    "def kishi_basis(r):\n",
    "    x = ((3*n^2+n+3)*r^2+(n^2+n+2)*r+1)/(6*(n^2+1))\n",
    "    y = (r^2+r)/2\n",
    "    z = r^2\n",
    "    return x, y, z\n",
    "def kishi_permutation(rho):\n",
    "    rho1 = rho\n",
    "    rho2 = -(n*rho+1)/((n^4 + n^3 + 3*n^2 + n + 1)*rho+(n^2 + n + 1))\n",
    "    rho3 = -(n*rho2+1)/((n^4 + n^3 + 3*n^2 + n + 1)*rho2+(n^2 + n + 1))\n",
    "    return rho1, rho2, rho3\n",
    "\n",
    "disc = compute_disc(df, rho, basis=kishi_basis, get_rho_permutations=kishi_permutation)^2\n",
    "print(\"disc =\", R(disc.lift()).factor())\n"
   ]
  },
  {
   "cell_type": "markdown",
   "id": "97af2eb4",
   "metadata": {},
   "source": [
    "Kishi's cyclic cubic fields, $n \\equiv 16 \\pmod{54}$, basis $\\left\\{\\dfrac{3n^2+n+3}{9(n^2+1)}\\rho^2+\\dfrac{n^2+n+2}{9(n^2+1)}\\rho+\\dfrac{1}{9(n^2+1)}, \\dfrac{2\\rho^2+\\rho}{3},\\rho^2\\right\\}$"
   ]
  },
  {
   "cell_type": "code",
   "execution_count": 8,
   "id": "f3c56939",
   "metadata": {
    "vscode": {
     "languageId": "sage"
    }
   },
   "outputs": [
    {
     "name": "stdout",
     "output_type": "stream",
     "text": [
      "disc = (1/729) * (n^2 + 3)^2 * (n^4 + n^3 + 4*n^2 + 3)^2\n"
     ]
    }
   ],
   "source": [
    "R.<n> = QQ[]\n",
    "K.<r> = FractionField(R)[]\n",
    "df =  r^3-n*(n^2+n+3)*(n^2+2)*r^2-(n^3+2*n^2+3*n+3)*r-1\n",
    "L.<rho> = K.quotient(df)\n",
    "\n",
    "def kishi_basis(r):\n",
    "    x = ((3*n^2+n+3)*r^2+(n^2+n+2)*r+1)/(9*(n^2+1))\n",
    "    y = (2*r^2+r)/3\n",
    "    z = r^2\n",
    "    return x, y, z\n",
    "def kishi_permutation(rho):\n",
    "    rho1 = rho\n",
    "    rho2 = -(n*rho+1)/((n^4 + n^3 + 3*n^2 + n + 1)*rho+(n^2 + n + 1))\n",
    "    rho3 = -(n*rho2+1)/((n^4 + n^3 + 3*n^2 + n + 1)*rho2+(n^2 + n + 1))\n",
    "    return rho1, rho2, rho3\n",
    "\n",
    "disc = compute_disc(df, rho, basis=kishi_basis, get_rho_permutations=kishi_permutation)^2\n",
    "print(\"disc =\", R(disc.lift()).factor())\n"
   ]
  },
  {
   "cell_type": "markdown",
   "id": "85ac16b1",
   "metadata": {},
   "source": [
    "Kishi's cyclic cubic fields, $n \\equiv 43 \\pmod{54}$, basis $\\left\\{\\dfrac{3n^2+n+3}{18(n^2+1)}\\rho^2+\\dfrac{n^2+n+2}{18(n^2+1)}\\rho+\\dfrac{1}{18(n^2+1)}, \\dfrac{5\\rho^2+\\rho}{6},\\rho^2\\right\\}$"
   ]
  },
  {
   "cell_type": "code",
   "execution_count": 10,
   "id": "c6efa821",
   "metadata": {
    "vscode": {
     "languageId": "sage"
    }
   },
   "outputs": [
    {
     "name": "stdout",
     "output_type": "stream",
     "text": [
      "disc = (1/11664) * (n^2 + 3)^2 * (n^4 + n^3 + 4*n^2 + 3)^2\n"
     ]
    }
   ],
   "source": [
    "R.<n> = QQ[]\n",
    "K.<r> = FractionField(R)[]\n",
    "df =  r^3-n*(n^2+n+3)*(n^2+2)*r^2-(n^3+2*n^2+3*n+3)*r-1\n",
    "L.<rho> = K.quotient(df)\n",
    "\n",
    "def kishi_basis(r):\n",
    "    x = ((3*n^2+n+3)*r^2+(n^2+n+2)*r+1)/(18*(n^2+1))\n",
    "    y = (5*r^2+r)/6\n",
    "    z = r^2\n",
    "    return x, y, z\n",
    "def kishi_permutation(rho):\n",
    "    rho1 = rho\n",
    "    rho2 = -(n*rho+1)/((n^4 + n^3 + 3*n^2 + n + 1)*rho+(n^2 + n + 1))\n",
    "    rho3 = -(n*rho2+1)/((n^4 + n^3 + 3*n^2 + n + 1)*rho2+(n^2 + n + 1))\n",
    "    return rho1, rho2, rho3\n",
    "\n",
    "disc = compute_disc(df, rho, basis=kishi_basis, get_rho_permutations=kishi_permutation)^2\n",
    "print(\"disc =\", R(disc.lift()).factor())\n"
   ]
  },
  {
   "cell_type": "code",
   "execution_count": null,
   "id": "382a6c27",
   "metadata": {
    "vscode": {
     "languageId": "sage"
    }
   },
   "outputs": [],
   "source": []
  }
 ],
 "metadata": {
  "kernelspec": {
   "display_name": "SageMath 10.6",
   "language": "sage",
   "name": "sagemath"
  },
  "language_info": {
   "codemirror_mode": {
    "name": "ipython",
    "version": 3
   },
   "file_extension": ".py",
   "mimetype": "text/x-python",
   "name": "python",
   "nbconvert_exporter": "python",
   "pygments_lexer": "ipython3",
   "version": "3.12.10"
  }
 },
 "nbformat": 4,
 "nbformat_minor": 5
}
