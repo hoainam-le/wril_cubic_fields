{
 "cells": [
  {
   "cell_type": "markdown",
   "id": "342979bf",
   "metadata": {},
   "source": [
    "In this notebook, we compute the minimal polynomials of several elements in the corresponding family of cyclic cubic fields to verify that these elements are algebraic integers and therefore belong to the ring of integers of the field."
   ]
  },
  {
   "cell_type": "markdown",
   "id": "4109cb59",
   "metadata": {},
   "source": [
    "Washington’s cyclic cubic fields"
   ]
  },
  {
   "cell_type": "code",
   "execution_count": 1,
   "id": "5b97cee1",
   "metadata": {
    "vscode": {
     "languageId": "sage"
    }
   },
   "outputs": [
    {
     "name": "stdout",
     "output_type": "stream",
     "text": [
      "Minimal polynomial of (1/(n - 1))*rho^2 - 1/(n - 1):\n",
      "X^3 + (-n^5 + 3*n^4 - 7*n^3 + 11*n^2 - 12*n + 6)*X^2 + (-2*n^4 + 4*n^3 - 9*n^2 + 12*n - 9)*X - n^3 + n^2 - 3*n + 3\n",
      "Minimal polynomial has form X^3+aX^2+bX+c where\n",
      "a =  (-1) * (n - 1) * (n^2 - 2*n + 2) * (n^2 + 3)\n",
      "b =  (-2) * (n^2 - 2*n + 3/2) * (n^2 + 3)\n",
      "c =  (-1) * (n - 1) * (n^2 + 3)\n",
      "\n",
      "Minimal polynomial of (1/2/(n - 1))*rho^2 - 1/2/(n - 1):\n",
      "X^3 + (-1/2*n^5 + 3/2*n^4 - 7/2*n^3 + 11/2*n^2 - 6*n + 3)*X^2 + (-1/2*n^4 + n^3 - 9/4*n^2 + 3*n - 9/4)*X - 1/8*n^3 + 1/8*n^2 - 3/8*n + 3/8\n",
      "Minimal polynomial has form X^3+aX^2+bX+c where\n",
      "a =  (-1/2) * (n - 1) * (n^2 - 2*n + 2) * (n^2 + 3)\n",
      "b =  (-1/2) * (n^2 - 2*n + 3/2) * (n^2 + 3)\n",
      "c =  (-1/8) * (n - 1) * (n^2 + 3)\n",
      "\n",
      "Minimal polynomial of 1/2*rho^2 + 1/2*rho:\n",
      "X^3 + (-1/2*n^6 + 2*n^5 - 5*n^4 + 17/2*n^3 - 21/2*n^2 + 15/2*n - 3)*X^2 + (-1/4*n^5 + 3/4*n^4 - 5/4*n^3 + 3/2*n^2 - 3/2*n + 3/4)*X - 1/8*n^3 + 3/8*n^2 - 3/8*n + 1/8\n",
      "Minimal polynomial has form X^3+aX^2+bX+c where\n",
      "a =  (-1/2) * (n^6 - 4*n^5 + 10*n^4 - 17*n^3 + 21*n^2 - 15*n + 6)\n",
      "b =  (-1/4) * (n - 1) * (n^4 - 2*n^3 + 3*n^2 - 3*n + 3)\n",
      "c =  (-1/8) * (n - 1)^3\n"
     ]
    }
   ],
   "source": [
    "R.<n> = QQ[]\n",
    "K.<r> = FractionField(R)[]\n",
    "df = r^3 - (n^3 - 2*n^2 + 3*n - 3)*r^2 - n^2*r - 1\n",
    "L.<rho> = K.quotient(df)\n",
    "\n",
    "# Washington permutation\n",
    "def washington_conjugates(rho):\n",
    "    rho1 = rho\n",
    "    rho2 = -(rho1 + 1)/((n^2 - n + 1)*rho1 + n)\n",
    "    rho3 = -(rho2 + 1)/((n^2 - n + 1)*rho2 + n)\n",
    "    return [rho1, rho2, rho3]\n",
    "\n",
    "# Minimal polynomial computation\n",
    "def minimal_polynomial(expr_func):\n",
    "    conjs = washington_conjugates(rho)\n",
    "    exprs = [(expr_func(conj)) for conj in conjs]\n",
    "    S.<X> = K[]\n",
    "    minpoly = prod([X - e for e in exprs])\n",
    "    expr_str = expr_func(L.gen())\n",
    "    print(f\"Minimal polynomial of {expr_str}:\")\n",
    "    print(minpoly)\n",
    "\n",
    "    # Get coefficients a, b, c in X^3 + aX^2 + bX + c\n",
    "    coeffs = minpoly.coefficients(sparse=False)\n",
    "    a, b, c = coeffs[2], coeffs[1], coeffs[0]\n",
    "    print('Minimal polynomial has form X^3+aX^2+bX+c where' )\n",
    "    print('a = ',R(minpoly[2].lift()).factor())\n",
    "    print('b = ',R(minpoly[1].lift()).factor())\n",
    "    print('c = ',R(minpoly[0].lift()).factor())\n",
    "\n",
    "    return None\n",
    "\n",
    "# elements\n",
    "element1 = lambda rho: (rho^2 - 1)/(n - 1)\n",
    "minimal_polynomial(element1)\n",
    "print()\n",
    "element2 = lambda rho: (rho^2 - 1)/(2*(n - 1))\n",
    "minimal_polynomial(element2)\n",
    "print()\n",
    "element2 = lambda rho: (rho^2 +rho)/2\n",
    "minimal_polynomial(element2)\n"
   ]
  },
  {
   "cell_type": "markdown",
   "id": "2a104368",
   "metadata": {},
   "source": [
    "Kishi's cyclic cubic fields"
   ]
  },
  {
   "cell_type": "code",
   "execution_count": 2,
   "id": "88787399",
   "metadata": {
    "vscode": {
     "languageId": "sage"
    }
   },
   "outputs": [
    {
     "name": "stdout",
     "output_type": "stream",
     "text": [
      "Minimal polynomial of ((3*n^2 + n + 3)/(n^2 + 1))*rho^2 + ((n^2 + n + 2)/(n^2 + 1))*rho + 1/(n^2 + 1):\n",
      "X^3 + (-3*n^10 - 7*n^9 - 35*n^8 - 52*n^7 - 135*n^6 - 128*n^5 - 214*n^4 - 118*n^3 - 133*n^2 - 36*n - 21)*X^2 + (3*n^8 + n^7 + 27*n^6 + 11*n^5 + 109*n^4 + 41*n^3 + 189*n^2 + 33*n + 90)*X + 3*n^5 - 5*n^4 + 4*n^3 - 32*n^2 + 9*n - 51\n",
      "Minimal polynomial has form X^3+aX^2+bX+c where\n",
      "a =  (-3) * (n^10 + 7/3*n^9 + 35/3*n^8 + 52/3*n^7 + 45*n^6 + 128/3*n^5 + 214/3*n^4 + 118/3*n^3 + 133/3*n^2 + 12*n + 7)\n",
      "b =  (3) * (n^8 + 1/3*n^7 + 9*n^6 + 11/3*n^5 + 109/3*n^4 + 41/3*n^3 + 63*n^2 + 11*n + 30)\n",
      "c =  (3) * (n^5 - 5/3*n^4 + 4/3*n^3 - 32/3*n^2 + 3*n - 17)\n",
      "\n",
      "Minimal polynomial of 1/2*rho^2 + 1/2*rho:\n",
      "X^3 + (-1/2*n^10 - n^9 - 11/2*n^8 - 7*n^7 - 41/2*n^6 - 33/2*n^5 - 65/2*n^4 - 31/2*n^3 - 21*n^2 - 6*n - 3)*X^2 + (-1/4*n^8 - 3/4*n^7 - 9/4*n^6 - 4*n^5 - 5*n^4 - 13/2*n^3 - 9/4*n^2 - 15/4*n + 3/4)*X - 1/8*n^5 - 1/8*n^4 - 1/2*n^3 - 3/8*n + 1/8\n",
      "Minimal polynomial has form X^3+aX^2+bX+c where\n",
      "a =  (-1/2) * (n^10 + 2*n^9 + 11*n^8 + 14*n^7 + 41*n^6 + 33*n^5 + 65*n^4 + 31*n^3 + 42*n^2 + 12*n + 6)\n",
      "b =  (-1/4) * (n^8 + 3*n^7 + 9*n^6 + 16*n^5 + 20*n^4 + 26*n^3 + 9*n^2 + 15*n - 3)\n",
      "c =  (-1/8) * (n^2 + 1) * (n^3 + n^2 + 3*n - 1)\n",
      "\n",
      "Minimal polynomial of 2/3*rho^2 + 1/3*rho:\n",
      "X^3 + (-2/3*n^10 - 4/3*n^9 - 22/3*n^8 - 28/3*n^7 - 82/3*n^6 - 65/3*n^5 - 43*n^4 - 19*n^3 - 82/3*n^2 - 6*n - 4)*X^2 + (-2/9*n^8 - 2/3*n^7 - 16/9*n^6 - 28/9*n^5 - 8/3*n^4 - 35/9*n^3 + 2*n^2 - 5/3*n + 3)*X - 2/27*n^5 - 2/27*n^4 - 2/9*n^3 + 4/27*n^2 + 1/9\n",
      "Minimal polynomial has form X^3+aX^2+bX+c where\n",
      "a =  (-2/3) * (n^10 + 2*n^9 + 11*n^8 + 14*n^7 + 41*n^6 + 65/2*n^5 + 129/2*n^4 + 57/2*n^3 + 41*n^2 + 9*n + 6)\n",
      "b =  (-2/9) * (n^8 + 3*n^7 + 8*n^6 + 14*n^5 + 12*n^4 + 35/2*n^3 - 9*n^2 + 15/2*n - 27/2)\n",
      "c =  (-2/27) * (n^5 + n^4 + 3*n^3 - 2*n^2 - 3/2)\n",
      "\n",
      "Minimal polynomial of 5/6*rho^2 + 1/6*rho:\n",
      "X^3 + (-5/6*n^10 - 5/3*n^9 - 55/6*n^8 - 35/3*n^7 - 205/6*n^6 - 161/6*n^5 - 107/2*n^4 - 45/2*n^3 - 101/3*n^2 - 6*n - 5)*X^2 + (-5/36*n^8 - 5/12*n^7 - 25/36*n^6 - 10/9*n^5 + 5/3*n^4 + 17/18*n^3 + 101/12*n^2 + 19/12*n + 23/4)*X - 5/216*n^5 - 5/216*n^4 + 5/27*n^2 + 5/24*n - 17/72\n",
      "Minimal polynomial has form X^3+aX^2+bX+c where\n",
      "a =  (-5/6) * (n^10 + 2*n^9 + 11*n^8 + 14*n^7 + 41*n^6 + 161/5*n^5 + 321/5*n^4 + 27*n^3 + 202/5*n^2 + 36/5*n + 6)\n",
      "b =  (-5/36) * (n^8 + 3*n^7 + 5*n^6 + 8*n^5 - 12*n^4 - 34/5*n^3 - 303/5*n^2 - 57/5*n - 207/5)\n",
      "c =  (-5/216) * (n^5 + n^4 - 8*n^2 - 9*n + 51/5)\n",
      "\n"
     ]
    }
   ],
   "source": [
    "R.<n> = QQ[]\n",
    "K.<r> = FractionField(R)[]\n",
    "df = r^3-n*(n^2+n+3)*(n^2+2)*r^2-(n^3+2*n^2+3*n+3)*r-1\n",
    "L.<rho> = K.quotient(df)\n",
    "\n",
    "# Kishi permutation\n",
    "def kishi_conjugates(rho):\n",
    "    rho1 = rho\n",
    "    rho2 = -(n*rho+1)/((n^4 + n^3 + 3*n^2 + n + 1)*rho+(n^2 + n + 1))\n",
    "    rho3 = -(n*rho2+1)/((n^4 + n^3 + 3*n^2 + n + 1)*rho2+(n^2 + n + 1))\n",
    "    return rho1, rho2, rho3\n",
    "\n",
    "# Minimal polynomial computation\n",
    "def minimal_polynomial(expr_func):\n",
    "    conjs = kishi_conjugates(rho)\n",
    "    exprs = [(expr_func(conj)) for conj in conjs]\n",
    "    S.<X> = K[]\n",
    "    minpoly = prod([X - e for e in exprs])\n",
    "    expr_str = expr_func(L.gen())\n",
    "    print(f\"Minimal polynomial of {expr_str}:\")\n",
    "    print(minpoly)\n",
    "\n",
    "    # Get coefficients a, b, c in X^3 + aX^2 + bX + c\n",
    "    coeffs = minpoly.coefficients(sparse=False)\n",
    "    a, b, c = coeffs[2], coeffs[1], coeffs[0]\n",
    "    print('Minimal polynomial has form X^3+aX^2+bX+c where' )\n",
    "    print('a = ',R(minpoly[2].lift()).factor())\n",
    "    print('b = ',R(minpoly[1].lift()).factor())\n",
    "    print('c = ',R(minpoly[0].lift()).factor())\n",
    "\n",
    "    return None\n",
    "\n",
    "# elements\n",
    "A = lambda rho: ((3*n^2+n+3)*rho^2+(n^2+n+2)*rho+1)/(1*(n^2+1))\n",
    "minimal_polynomial(A)\n",
    "print()\n",
    "el1 = lambda rho: (rho^2+rho)/2\n",
    "minimal_polynomial(el1)\n",
    "print()\n",
    "el2 = lambda rho: (2*rho^2+rho)/3\n",
    "minimal_polynomial(el2)\n",
    "print()\n",
    "el3 = lambda rho: (5*rho^2+rho)/6\n",
    "minimal_polynomial(el3)\n",
    "print()\n",
    "\n"
   ]
  }
 ],
 "metadata": {
  "kernelspec": {
   "display_name": "SageMath 10.6",
   "language": "sage",
   "name": "sagemath"
  },
  "language_info": {
   "codemirror_mode": {
    "name": "ipython",
    "version": 3
   },
   "file_extension": ".py",
   "mimetype": "text/x-python",
   "name": "python",
   "nbconvert_exporter": "python",
   "pygments_lexer": "ipython3",
   "version": "3.12.10"
  }
 },
 "nbformat": 4,
 "nbformat_minor": 5
}
